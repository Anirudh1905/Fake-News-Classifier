{
 "cells": [
  {
   "cell_type": "markdown",
   "metadata": {
    "id": "view-in-github"
   },
   "source": [
    "<a href=\"https://colab.research.google.com/github/Anirudh1905/Fake-News-Classifier/blob/master/Fake_News_Classifier.ipynb\" target=\"_parent\"><img src=\"https://colab.research.google.com/assets/colab-badge.svg\" alt=\"Open In Colab\"/></a>"
   ]
  },
  {
   "cell_type": "markdown",
   "metadata": {
    "id": "rZThChxEV4RG"
   },
   "source": [
    "# Fake News Classifier"
   ]
  },
  {
   "cell_type": "code",
   "execution_count": 1,
   "metadata": {
    "colab": {
     "base_uri": "https://localhost:8080/"
    },
    "id": "w9RaNgMQhyjL",
    "outputId": "9409b7dc-def1-4b66-bc46-b9496b358afa"
   },
   "outputs": [
    {
     "name": "stdout",
     "output_type": "stream",
     "text": [
      "Requirement already satisfied: tf-nightly in c:\\users\\aniru\\anaconda3\\lib\\site-packages (2.14.0.dev20230702)\n",
      "Requirement already satisfied: tf-nightly-intel==2.14.0-dev20230702 in c:\\users\\aniru\\anaconda3\\lib\\site-packages (from tf-nightly) (2.14.0.dev20230702)\n",
      "Requirement already satisfied: six>=1.12.0 in c:\\users\\aniru\\anaconda3\\lib\\site-packages (from tf-nightly-intel==2.14.0-dev20230702->tf-nightly) (1.16.0)\n",
      "Requirement already satisfied: ml-dtypes>=0.2.0 in c:\\users\\aniru\\anaconda3\\lib\\site-packages (from tf-nightly-intel==2.14.0-dev20230702->tf-nightly) (0.2.0)\n",
      "Requirement already satisfied: flatbuffers>=23.5.26 in c:\\users\\aniru\\anaconda3\\lib\\site-packages (from tf-nightly-intel==2.14.0-dev20230702->tf-nightly) (23.5.26)\n",
      "Requirement already satisfied: tf-estimator-nightly~=2.14.0.dev in c:\\users\\aniru\\anaconda3\\lib\\site-packages (from tf-nightly-intel==2.14.0-dev20230702->tf-nightly) (2.14.0.dev2023070308)\n",
      "Requirement already satisfied: grpcio<2.0,>=1.24.3 in c:\\users\\aniru\\anaconda3\\lib\\site-packages (from tf-nightly-intel==2.14.0-dev20230702->tf-nightly) (1.56.0)\n",
      "Requirement already satisfied: absl-py>=1.0.0 in c:\\users\\aniru\\anaconda3\\lib\\site-packages (from tf-nightly-intel==2.14.0-dev20230702->tf-nightly) (1.4.0)\n",
      "Requirement already satisfied: opt-einsum>=2.3.2 in c:\\users\\aniru\\anaconda3\\lib\\site-packages (from tf-nightly-intel==2.14.0-dev20230702->tf-nightly) (3.3.0)\n",
      "Requirement already satisfied: termcolor>=1.1.0 in c:\\users\\aniru\\anaconda3\\lib\\site-packages (from tf-nightly-intel==2.14.0-dev20230702->tf-nightly) (2.3.0)\n",
      "Requirement already satisfied: libclang>=13.0.0 in c:\\users\\aniru\\anaconda3\\lib\\site-packages (from tf-nightly-intel==2.14.0-dev20230702->tf-nightly) (16.0.0)\n",
      "Requirement already satisfied: numpy>=1.22 in c:\\users\\aniru\\anaconda3\\lib\\site-packages (from tf-nightly-intel==2.14.0-dev20230702->tf-nightly) (1.23.5)\n",
      "Requirement already satisfied: packaging in c:\\users\\aniru\\anaconda3\\lib\\site-packages (from tf-nightly-intel==2.14.0-dev20230702->tf-nightly) (22.0)\n",
      "Requirement already satisfied: tb-nightly~=2.14.0.a in c:\\users\\aniru\\anaconda3\\lib\\site-packages (from tf-nightly-intel==2.14.0-dev20230702->tf-nightly) (2.14.0a20230702)\n",
      "Requirement already satisfied: astunparse>=1.6.0 in c:\\users\\aniru\\anaconda3\\lib\\site-packages (from tf-nightly-intel==2.14.0-dev20230702->tf-nightly) (1.6.3)\n",
      "Requirement already satisfied: google-pasta>=0.1.1 in c:\\users\\aniru\\anaconda3\\lib\\site-packages (from tf-nightly-intel==2.14.0-dev20230702->tf-nightly) (0.2.0)\n",
      "Requirement already satisfied: h5py>=2.9.0 in c:\\users\\aniru\\anaconda3\\lib\\site-packages (from tf-nightly-intel==2.14.0-dev20230702->tf-nightly) (3.7.0)\n",
      "Requirement already satisfied: wrapt>=1.11.0 in c:\\users\\aniru\\anaconda3\\lib\\site-packages (from tf-nightly-intel==2.14.0-dev20230702->tf-nightly) (1.14.1)\n",
      "Requirement already satisfied: gast<=0.4.0,>=0.2.1 in c:\\users\\aniru\\anaconda3\\lib\\site-packages (from tf-nightly-intel==2.14.0-dev20230702->tf-nightly) (0.4.0)\n",
      "Requirement already satisfied: keras-nightly~=2.14.0.dev in c:\\users\\aniru\\anaconda3\\lib\\site-packages (from tf-nightly-intel==2.14.0-dev20230702->tf-nightly) (2.14.0.dev2023070307)\n",
      "Requirement already satisfied: tensorflow-io-gcs-filesystem>=0.23.1 in c:\\users\\aniru\\anaconda3\\lib\\site-packages (from tf-nightly-intel==2.14.0-dev20230702->tf-nightly) (0.31.0)\n",
      "Requirement already satisfied: protobuf!=4.21.0,!=4.21.1,!=4.21.2,!=4.21.3,!=4.21.4,!=4.21.5,<5.0.0dev,>=3.20.3 in c:\\users\\aniru\\anaconda3\\lib\\site-packages (from tf-nightly-intel==2.14.0-dev20230702->tf-nightly) (4.23.3)\n",
      "Requirement already satisfied: typing-extensions>=3.6.6 in c:\\users\\aniru\\anaconda3\\lib\\site-packages (from tf-nightly-intel==2.14.0-dev20230702->tf-nightly) (4.4.0)\n",
      "Requirement already satisfied: setuptools in c:\\users\\aniru\\anaconda3\\lib\\site-packages (from tf-nightly-intel==2.14.0-dev20230702->tf-nightly) (65.6.3)\n",
      "Requirement already satisfied: wheel<1.0,>=0.23.0 in c:\\users\\aniru\\anaconda3\\lib\\site-packages (from astunparse>=1.6.0->tf-nightly-intel==2.14.0-dev20230702->tf-nightly) (0.38.4)\n",
      "Requirement already satisfied: markdown>=2.6.8 in c:\\users\\aniru\\anaconda3\\lib\\site-packages (from tb-nightly~=2.14.0.a->tf-nightly-intel==2.14.0-dev20230702->tf-nightly) (3.4.1)\n",
      "Requirement already satisfied: requests<3,>=2.21.0 in c:\\users\\aniru\\anaconda3\\lib\\site-packages (from tb-nightly~=2.14.0.a->tf-nightly-intel==2.14.0-dev20230702->tf-nightly) (2.28.1)\n",
      "Requirement already satisfied: werkzeug>=1.0.1 in c:\\users\\aniru\\anaconda3\\lib\\site-packages (from tb-nightly~=2.14.0.a->tf-nightly-intel==2.14.0-dev20230702->tf-nightly) (2.2.2)\n",
      "Requirement already satisfied: tensorboard-data-server<0.8.0,>=0.7.0 in c:\\users\\aniru\\anaconda3\\lib\\site-packages (from tb-nightly~=2.14.0.a->tf-nightly-intel==2.14.0-dev20230702->tf-nightly) (0.7.1)\n",
      "Requirement already satisfied: google-auth<3,>=1.6.3 in c:\\users\\aniru\\anaconda3\\lib\\site-packages (from tb-nightly~=2.14.0.a->tf-nightly-intel==2.14.0-dev20230702->tf-nightly) (2.21.0)\n",
      "Requirement already satisfied: google-auth-oauthlib<1.1,>=0.5 in c:\\users\\aniru\\anaconda3\\lib\\site-packages (from tb-nightly~=2.14.0.a->tf-nightly-intel==2.14.0-dev20230702->tf-nightly) (1.0.0)\n",
      "Requirement already satisfied: rsa<5,>=3.1.4 in c:\\users\\aniru\\anaconda3\\lib\\site-packages (from google-auth<3,>=1.6.3->tb-nightly~=2.14.0.a->tf-nightly-intel==2.14.0-dev20230702->tf-nightly) (4.9)\n",
      "Requirement already satisfied: urllib3<2.0 in c:\\users\\aniru\\anaconda3\\lib\\site-packages (from google-auth<3,>=1.6.3->tb-nightly~=2.14.0.a->tf-nightly-intel==2.14.0-dev20230702->tf-nightly) (1.26.14)\n",
      "Requirement already satisfied: cachetools<6.0,>=2.0.0 in c:\\users\\aniru\\anaconda3\\lib\\site-packages (from google-auth<3,>=1.6.3->tb-nightly~=2.14.0.a->tf-nightly-intel==2.14.0-dev20230702->tf-nightly) (5.3.1)\n",
      "Requirement already satisfied: pyasn1-modules>=0.2.1 in c:\\users\\aniru\\anaconda3\\lib\\site-packages (from google-auth<3,>=1.6.3->tb-nightly~=2.14.0.a->tf-nightly-intel==2.14.0-dev20230702->tf-nightly) (0.2.8)\n",
      "Requirement already satisfied: requests-oauthlib>=0.7.0 in c:\\users\\aniru\\anaconda3\\lib\\site-packages (from google-auth-oauthlib<1.1,>=0.5->tb-nightly~=2.14.0.a->tf-nightly-intel==2.14.0-dev20230702->tf-nightly) (1.3.1)\n",
      "Requirement already satisfied: idna<4,>=2.5 in c:\\users\\aniru\\anaconda3\\lib\\site-packages (from requests<3,>=2.21.0->tb-nightly~=2.14.0.a->tf-nightly-intel==2.14.0-dev20230702->tf-nightly) (3.4)\n",
      "Requirement already satisfied: certifi>=2017.4.17 in c:\\users\\aniru\\anaconda3\\lib\\site-packages (from requests<3,>=2.21.0->tb-nightly~=2.14.0.a->tf-nightly-intel==2.14.0-dev20230702->tf-nightly) (2023.5.7)\n",
      "Requirement already satisfied: charset-normalizer<3,>=2 in c:\\users\\aniru\\anaconda3\\lib\\site-packages (from requests<3,>=2.21.0->tb-nightly~=2.14.0.a->tf-nightly-intel==2.14.0-dev20230702->tf-nightly) (2.0.4)\n",
      "Requirement already satisfied: MarkupSafe>=2.1.1 in c:\\users\\aniru\\anaconda3\\lib\\site-packages (from werkzeug>=1.0.1->tb-nightly~=2.14.0.a->tf-nightly-intel==2.14.0-dev20230702->tf-nightly) (2.1.1)\n",
      "Requirement already satisfied: pyasn1<0.5.0,>=0.4.6 in c:\\users\\aniru\\anaconda3\\lib\\site-packages (from pyasn1-modules>=0.2.1->google-auth<3,>=1.6.3->tb-nightly~=2.14.0.a->tf-nightly-intel==2.14.0-dev20230702->tf-nightly) (0.4.8)\n",
      "Requirement already satisfied: oauthlib>=3.0.0 in c:\\users\\aniru\\anaconda3\\lib\\site-packages (from requests-oauthlib>=0.7.0->google-auth-oauthlib<1.1,>=0.5->tb-nightly~=2.14.0.a->tf-nightly-intel==2.14.0-dev20230702->tf-nightly) (3.2.2)\n",
      "Requirement already satisfied: multiprocess in c:\\users\\aniru\\anaconda3\\lib\\site-packages (0.70.14)\n",
      "Requirement already satisfied: dill>=0.3.6 in c:\\users\\aniru\\anaconda3\\lib\\site-packages (from multiprocess) (0.3.6)\n"
     ]
    }
   ],
   "source": [
    "!pip install tf-nightly\n",
    "!pip install multiprocess"
   ]
  },
  {
   "cell_type": "markdown",
   "metadata": {
    "id": "BeR9bo9QV4oL"
   },
   "source": [
    "## Importing the Data"
   ]
  },
  {
   "cell_type": "code",
   "execution_count": 2,
   "metadata": {
    "colab": {
     "base_uri": "https://localhost:8080/"
    },
    "id": "VgGiVYcn8OCq",
    "outputId": "42d93176-3eee-46a5-c3e2-09616c81b6ff"
   },
   "outputs": [
    {
     "name": "stdout",
     "output_type": "stream",
     "text": [
      "WARNING:tensorflow:From C:\\Users\\aniru\\anaconda3\\lib\\site-packages\\tensorflow\\python\\ops\\distributions\\distribution.py:259: ReparameterizationType.__init__ (from tensorflow.python.ops.distributions.distribution) is deprecated and will be removed after 2019-01-01.\n",
      "Instructions for updating:\n",
      "The TensorFlow Distributions library has moved to TensorFlow Probability (https://github.com/tensorflow/probability). You should update all references to use `tfp.distributions` instead of `tf.distributions`.\n",
      "WARNING:tensorflow:From C:\\Users\\aniru\\anaconda3\\lib\\site-packages\\tensorflow\\python\\ops\\distributions\\bernoulli.py:165: RegisterKL.__init__ (from tensorflow.python.ops.distributions.kullback_leibler) is deprecated and will be removed after 2019-01-01.\n",
      "Instructions for updating:\n",
      "The TensorFlow Distributions library has moved to TensorFlow Probability (https://github.com/tensorflow/probability). You should update all references to use `tfp.distributions` instead of `tf.distributions`.\n"
     ]
    }
   ],
   "source": [
    "import time\n",
    "import nltk\n",
    "import re\n",
    "import pandas as pd\n",
    "import numpy as np\n",
    "import tensorflow as tf\n",
    "from nltk.stem import WordNetLemmatizer\n",
    "import multiprocess as mp\n",
    "from nltk.corpus import stopwords\n",
    "from matplotlib import pyplot as plt\n",
    "from tensorflow.keras.layers import Embedding,LSTM,Dense,Dropout\n",
    "from tensorflow.keras.models import Sequential\n",
    "from tensorflow.keras.preprocessing.sequence import pad_sequences\n",
    "from tensorflow.keras.preprocessing.text import one_hot\n",
    "from sklearn.metrics import accuracy_score\n",
    "from sklearn.metrics import confusion_matrix\n",
    "import warnings\n",
    "warnings.filterwarnings(\"ignore\")"
   ]
  },
  {
   "cell_type": "code",
   "execution_count": 3,
   "metadata": {
    "colab": {
     "base_uri": "https://localhost:8080/",
     "height": 206
    },
    "id": "_3VAQFSLJGGr",
    "outputId": "81ff04e4-34bb-4301-bb82-5b41142f5aa4"
   },
   "outputs": [
    {
     "data": {
      "text/html": [
       "<div>\n",
       "<style scoped>\n",
       "    .dataframe tbody tr th:only-of-type {\n",
       "        vertical-align: middle;\n",
       "    }\n",
       "\n",
       "    .dataframe tbody tr th {\n",
       "        vertical-align: top;\n",
       "    }\n",
       "\n",
       "    .dataframe thead th {\n",
       "        text-align: right;\n",
       "    }\n",
       "</style>\n",
       "<table border=\"1\" class=\"dataframe\">\n",
       "  <thead>\n",
       "    <tr style=\"text-align: right;\">\n",
       "      <th></th>\n",
       "      <th>title</th>\n",
       "      <th>text</th>\n",
       "      <th>subject</th>\n",
       "      <th>date</th>\n",
       "      <th>labels</th>\n",
       "    </tr>\n",
       "  </thead>\n",
       "  <tbody>\n",
       "    <tr>\n",
       "      <th>0</th>\n",
       "      <td>Donald Trump Sends Out Embarrassing New Year’...</td>\n",
       "      <td>Donald Trump just couldn t wish all Americans ...</td>\n",
       "      <td>News</td>\n",
       "      <td>December 31, 2017</td>\n",
       "      <td>1</td>\n",
       "    </tr>\n",
       "    <tr>\n",
       "      <th>1</th>\n",
       "      <td>Drunk Bragging Trump Staffer Started Russian ...</td>\n",
       "      <td>House Intelligence Committee Chairman Devin Nu...</td>\n",
       "      <td>News</td>\n",
       "      <td>December 31, 2017</td>\n",
       "      <td>1</td>\n",
       "    </tr>\n",
       "    <tr>\n",
       "      <th>2</th>\n",
       "      <td>Sheriff David Clarke Becomes An Internet Joke...</td>\n",
       "      <td>On Friday, it was revealed that former Milwauk...</td>\n",
       "      <td>News</td>\n",
       "      <td>December 30, 2017</td>\n",
       "      <td>1</td>\n",
       "    </tr>\n",
       "    <tr>\n",
       "      <th>3</th>\n",
       "      <td>Trump Is So Obsessed He Even Has Obama’s Name...</td>\n",
       "      <td>On Christmas day, Donald Trump announced that ...</td>\n",
       "      <td>News</td>\n",
       "      <td>December 29, 2017</td>\n",
       "      <td>1</td>\n",
       "    </tr>\n",
       "    <tr>\n",
       "      <th>4</th>\n",
       "      <td>Pope Francis Just Called Out Donald Trump Dur...</td>\n",
       "      <td>Pope Francis used his annual Christmas Day mes...</td>\n",
       "      <td>News</td>\n",
       "      <td>December 25, 2017</td>\n",
       "      <td>1</td>\n",
       "    </tr>\n",
       "  </tbody>\n",
       "</table>\n",
       "</div>"
      ],
      "text/plain": [
       "                                               title  \\\n",
       "0   Donald Trump Sends Out Embarrassing New Year’...   \n",
       "1   Drunk Bragging Trump Staffer Started Russian ...   \n",
       "2   Sheriff David Clarke Becomes An Internet Joke...   \n",
       "3   Trump Is So Obsessed He Even Has Obama’s Name...   \n",
       "4   Pope Francis Just Called Out Donald Trump Dur...   \n",
       "\n",
       "                                                text subject  \\\n",
       "0  Donald Trump just couldn t wish all Americans ...    News   \n",
       "1  House Intelligence Committee Chairman Devin Nu...    News   \n",
       "2  On Friday, it was revealed that former Milwauk...    News   \n",
       "3  On Christmas day, Donald Trump announced that ...    News   \n",
       "4  Pope Francis used his annual Christmas Day mes...    News   \n",
       "\n",
       "                date  labels  \n",
       "0  December 31, 2017       1  \n",
       "1  December 31, 2017       1  \n",
       "2  December 30, 2017       1  \n",
       "3  December 29, 2017       1  \n",
       "4  December 25, 2017       1  "
      ]
     },
     "execution_count": 3,
     "metadata": {},
     "output_type": "execute_result"
    }
   ],
   "source": [
    "df = pd.read_csv('data.csv')\n",
    "df.head()"
   ]
  },
  {
   "cell_type": "code",
   "execution_count": 4,
   "metadata": {
    "id": "BejXmcHVJKUo"
   },
   "outputs": [],
   "source": [
    "df.dropna(inplace=True)"
   ]
  },
  {
   "cell_type": "code",
   "execution_count": 5,
   "metadata": {
    "id": "76S3qH8iwMkm"
   },
   "outputs": [],
   "source": [
    "df = df.rename(columns={\"labels\":\"label\"})"
   ]
  },
  {
   "cell_type": "code",
   "execution_count": 6,
   "metadata": {
    "id": "sGieLBFqJR00"
   },
   "outputs": [],
   "source": [
    "x=df.drop('label',axis=1)\n",
    "y=df['label']"
   ]
  },
  {
   "cell_type": "code",
   "execution_count": 7,
   "metadata": {
    "colab": {
     "base_uri": "https://localhost:8080/",
     "height": 34
    },
    "id": "BLuFYQDiJbTc",
    "outputId": "75bad7ac-86ae-4591-c035-c61e4bd4c8a3"
   },
   "outputs": [
    {
     "data": {
      "text/plain": [
       "(44898, 4)"
      ]
     },
     "execution_count": 7,
     "metadata": {},
     "output_type": "execute_result"
    }
   ],
   "source": [
    "x.shape"
   ]
  },
  {
   "cell_type": "code",
   "execution_count": 8,
   "metadata": {
    "colab": {
     "base_uri": "https://localhost:8080/",
     "height": 34
    },
    "id": "o5JLMqqnJczY",
    "outputId": "a5ff06ce-034d-4f87-b2c4-b57f43b41e45"
   },
   "outputs": [
    {
     "data": {
      "text/plain": [
       "(44898,)"
      ]
     },
     "execution_count": 8,
     "metadata": {},
     "output_type": "execute_result"
    }
   ],
   "source": [
    "y.shape"
   ]
  },
  {
   "cell_type": "code",
   "execution_count": 18,
   "metadata": {
    "id": "Cq-3aNsXKQ8B"
   },
   "outputs": [],
   "source": [
    "vocab_size=10000"
   ]
  },
  {
   "cell_type": "code",
   "execution_count": 19,
   "metadata": {
    "id": "83tbuz-RKT4z"
   },
   "outputs": [],
   "source": [
    "messages=x.copy()"
   ]
  },
  {
   "cell_type": "code",
   "execution_count": 20,
   "metadata": {
    "colab": {
     "base_uri": "https://localhost:8080/",
     "height": 122
    },
    "id": "4ZfYGh2NKYVM",
    "outputId": "cabbd600-84a1-4cf3-d110-9dbf04e70b71"
   },
   "outputs": [
    {
     "data": {
      "application/vnd.google.colaboratory.intrinsic+json": {
       "type": "string"
      },
      "text/plain": [
       "'Ever get the feeling your life circles the roundabout rather than heads in a straight line toward the intended destination? [Hillary Clinton remains the big woman on campus in leafy, liberal Wellesley, Massachusetts. Everywhere else votes her most likely to don her inauguration dress for the remainder of her days the way Miss Havisham forever wore that wedding dress.  Speaking of Great Expectations, Hillary Rodham overflowed with them 48 years ago when she first addressed a Wellesley graduating class. The president of the college informed those gathered in 1969 that the students needed â\\x80\\x9cno debate so far as I could ascertain as to who their spokesman was to beâ\\x80\\x9d (kind of the like the Democratic primaries in 2016 minus the   terms unknown then even at a Seven Sisters school). â\\x80\\x9cI am very glad that Miss Adams made it clear that what I am speaking for today is all of us â\\x80\\x94  the 400 of us,â\\x80\\x9d Miss Rodham told her classmates. After appointing herself Edger Bergen to the Charlie McCarthys and Mortimer Snerds in attendance, the    bespectacled in granny glasses (awarding her matronly wisdom â\\x80\\x94  or at least John Lennon wisdom) took issue with the previous speaker. Despite becoming the first   to win election to a seat in the U. S. Senate since Reconstruction, Edward Brooke came in for criticism for calling for â\\x80\\x9cempathyâ\\x80\\x9d for the goals of protestors as he criticized tactics. Though Clinton in her senior thesis on Saul Alinsky lamented â\\x80\\x9cBlack Power demagoguesâ\\x80\\x9d and â\\x80\\x9celitist arrogance and repressive intoleranceâ\\x80\\x9d within the New Left, similar words coming out of a Republican necessitated a brief rebuttal. â\\x80\\x9cTrust,â\\x80\\x9d Rodham ironically observed in 1969, â\\x80\\x9cthis is one word that when I asked the class at our rehearsal what it was they wanted me to say for them, everyone came up to me and said â\\x80\\x98Talk about trust, talk about the lack of trust both for us and the way we feel about others. Talk about the trust bust.â\\x80\\x99 What can you say about it? What can you say about a feeling that permeates a generation and that perhaps is not even understood by those who are distrusted?â\\x80\\x9d The â\\x80\\x9ctrust bustâ\\x80\\x9d certainly busted Clintonâ\\x80\\x99s 2016 plans. She certainly did not even understand that people distrusted her. After Whitewater, Travelgate, the vast   conspiracy, Benghazi, and the missing emails, Clinton found herself the distrusted voice on Friday. There was a load of compromising on the road to the broadening of her political horizons. And distrust from the American people â\\x80\\x94  Trump edged her 48 percent to 38 percent on the question immediately prior to Novemberâ\\x80\\x99s election â\\x80\\x94  stood as a major reason for the closing of those horizons. Clinton described her vanquisher and his supporters as embracing a â\\x80\\x9clie,â\\x80\\x9d a â\\x80\\x9ccon,â\\x80\\x9d â\\x80\\x9calternative facts,â\\x80\\x9d and â\\x80\\x9ca   assault on truth and reason. â\\x80\\x9d She failed to explain why the American people chose his lies over her truth. â\\x80\\x9cAs the history majors among you here today know all too well, when people in power invent their own facts and attack those who question them, it can mark the beginning of the end of a free society,â\\x80\\x9d she offered. â\\x80\\x9cThat is not hyperbole. â\\x80\\x9d Like so many people to emerge from the 1960s, Hillary Clinton embarked upon a long, strange trip. From high school Goldwater Girl and Wellesley College Republican president to Democratic politician, Clinton drank in the times and the place that gave her a degree. More significantly, she went from idealist to cynic, as a comparison of her two Wellesley commencement addresses show. Way back when, she lamented that â\\x80\\x9cfor too long our leaders have viewed politics as the art of the possible, and the challenge now is to practice politics as the art of making what appears to be impossible possible. â\\x80\\x9d Now, as the big woman on campus but the odd woman out of the White House, she wonders how her current station is even possible. â\\x80\\x9cWhy arenâ\\x80\\x99t I 50 points ahead?â\\x80\\x9d she asked in September. In May she asks why she isnâ\\x80\\x99t president. The woman famously dubbed a â\\x80\\x9ccongenital liarâ\\x80\\x9d by Bill Safire concludes that lies did her in â\\x80\\x94  theirs, mind you, not hers. Getting stood up on Election Day, like finding yourself the jilted bride on your wedding day, inspires dangerous delusions.'"
      ]
     },
     "execution_count": 20,
     "metadata": {},
     "output_type": "execute_result"
    }
   ],
   "source": [
    "messages['text'][1]"
   ]
  },
  {
   "cell_type": "code",
   "execution_count": 21,
   "metadata": {
    "id": "LUGll-SSKkbD"
   },
   "outputs": [],
   "source": [
    "messages.reset_index(inplace=True)"
   ]
  },
  {
   "cell_type": "code",
   "execution_count": 22,
   "metadata": {
    "colab": {
     "base_uri": "https://localhost:8080/"
    },
    "id": "j03laEwILJZy",
    "outputId": "d1f86470-29ae-4d35-d24b-a2306cb9c381"
   },
   "outputs": [
    {
     "name": "stderr",
     "output_type": "stream",
     "text": [
      "[nltk_data] Downloading package stopwords to /root/nltk_data...\n",
      "[nltk_data]   Unzipping corpora/stopwords.zip.\n",
      "[nltk_data] Downloading package wordnet to /root/nltk_data...\n",
      "[nltk_data] Downloading package omw-1.4 to /root/nltk_data...\n"
     ]
    },
    {
     "data": {
      "text/plain": [
       "True"
      ]
     },
     "execution_count": 22,
     "metadata": {},
     "output_type": "execute_result"
    }
   ],
   "source": [
    "nltk.download('stopwords')\n",
    "nltk.download('wordnet')\n",
    "nltk.download('omw-1.4')"
   ]
  },
  {
   "cell_type": "markdown",
   "metadata": {
    "id": "H9srRLjMWuyL"
   },
   "source": [
    "## Data Preprocessing"
   ]
  },
  {
   "cell_type": "code",
   "execution_count": 26,
   "metadata": {
    "id": "Eto2sV9HhTdI"
   },
   "outputs": [],
   "source": [
    "def preprocess(msg):\n",
    "    rv=re.sub('[^a-zA-Z]',' ',msg)\n",
    "    rv=rv.lower()\n",
    "    # rv=rv.split()\n",
    "    # rv=[lm.lemmatize(word) for word in rv if not word in stopwords.words('english')]\n",
    "    # rv=' '.join(rv)\n",
    "    return rv"
   ]
  },
  {
   "cell_type": "code",
   "execution_count": 27,
   "metadata": {
    "id": "dEaKlUZ1LNEF"
   },
   "outputs": [],
   "source": [
    "lm=WordNetLemmatizer()\n",
    "corpus=[]\n",
    "\n",
    "with mp.Pool(30) as pool:\n",
    "    corpus=pool.map(preprocess,messages['text'])"
   ]
  },
  {
   "cell_type": "code",
   "execution_count": 29,
   "metadata": {
    "id": "AMh8c63m0i_Q"
   },
   "outputs": [],
   "source": [
    "x['text'] = corpus"
   ]
  },
  {
   "cell_type": "code",
   "execution_count": 28,
   "metadata": {
    "colab": {
     "base_uri": "https://localhost:8080/",
     "height": 122
    },
    "id": "-9eQoJ1nMaCX",
    "outputId": "6f09776a-e15e-4766-e649-89825df5821a"
   },
   "outputs": [
    {
     "data": {
      "application/vnd.google.colaboratory.intrinsic+json": {
       "type": "string"
      },
      "text/plain": [
       "'house dem aide  we didn   t even see comey   s letter until jason chaffetz tweeted it by darrell lucus on october          subscribe jason chaffetz on the stump in american fork  utah   image courtesy michael jolley  available under a creative commons by license    with apologies to keith olbermann  there is no doubt who the worst person in the world is this week   fbi director james comey  but according to a house democratic aide  it looks like we also know who the second worst person is as well  it turns out that when comey sent his now infamous letter announcing that the fbi was looking into emails that may be related to hillary clinton   s email server  the ranking democrats on the relevant committees didn   t hear about it from comey  they found out via a tweet from one of the republican committee chairmen    as we now know  comey notified the republican chairmen and democratic ranking members of the house intelligence  judiciary  and oversight committees that his agency was reviewing emails it had recently discovered in order to see if they contained classified information  not long after this letter went out  oversight committee chairman jason chaffetz set the political world ablaze with this tweet  fbi dir just informed me   the fbi has learned of the existence of emails that appear to be pertinent to the investigation   case reopened       jason chaffetz   jasoninthehouse  october            of course  we now know that this was not the case   comey was actually saying that it was reviewing the emails in light of    an unrelated case      which we now know to be anthony weiner   s sexting with a teenager  but apparently such little things as facts didn   t matter to chaffetz  the utah republican had already vowed to initiate a raft of investigations if hillary wins   at least two years    worth  and possibly an entire term   s worth of them  apparently chaffetz thought the fbi was already doing his work for him   resulting in a tweet that briefly roiled the nation before cooler heads realized it was a dud    but according to a senior house democratic aide  misreading that letter may have been the least of chaffetz    sins  that aide told shareblue that his boss and other democrats didn   t even know about comey   s letter at the time   and only found out when they checked twitter     democratic ranking members on the relevant committees didn   t receive comey   s letter until after the republican chairmen  in fact  the democratic ranking members didn    receive it until after the chairman of the oversight and government reform committee  jason chaffetz  tweeted it out and made it public       so let   s see if we   ve got this right  the fbi director tells chaffetz and other gop committee chairmen about a major development in a potentially politically explosive investigation  and neither chaffetz nor his other colleagues had the courtesy to let their democratic counterparts know about it  instead  according to this aide  he made them find out about it on twitter    there has already been talk on daily kos that comey himself provided advance notice of this letter to chaffetz and other republicans  giving them time to turn on the spin machine  that may make for good theater  but there is nothing so far that even suggests this is the case  after all  there is nothing so far that suggests that comey was anything other than grossly incompetent and tone deaf    what it does suggest  however  is that chaffetz is acting in a way that makes dan burton and darrell issa look like models of responsibility and bipartisanship  he didn   t even have the decency to notify ranking member elijah cummings about something this explosive  if that doesn   t trample on basic standards of fairness  i don   t know what does    granted  it   s not likely that chaffetz will have to answer for this  he sits in a ridiculously republican district anchored in provo and orem  it has a cook partisan voting index of r     and gave mitt romney a punishing    percent of the vote in       moreover  the republican house leadership has given its full support to chaffetz    planned fishing expedition  but that doesn   t mean we can   t turn the hot lights on him  after all  he is a textbook example of what the house has become under republican control  and he is also the second worst person in the world  about darrell lucus   darrell is a    something graduate of the university of north carolina who considers himself a journalist of the old school  an attempt to turn him into a member of the religious right in college only succeeded in turning him into the religious right s worst nightmare  a charismatic christian who is an unapologetic liberal  his desire to stand up for those who have been scared into silence only increased when he survived an abusive three year marriage  you may know him on daily kos as christian dem in nc   follow him on twitter  darrelllucus or connect with him on facebook   click here to buy darrell a mello yello  connect'"
      ]
     },
     "execution_count": 28,
     "metadata": {},
     "output_type": "execute_result"
    }
   ],
   "source": [
    "corpus[0]"
   ]
  },
  {
   "cell_type": "code",
   "execution_count": null,
   "metadata": {
    "colab": {
     "base_uri": "https://localhost:8080/",
     "height": 1000
    },
    "id": "dMDoaW0YSBi0",
    "outputId": "127134fe-dfac-42dd-c86c-6dd87691ff87"
   },
   "outputs": [
    {
     "data": {
      "text/plain": [
       "[1072,\n",
       " 7586,\n",
       " 8104,\n",
       " 6533,\n",
       " 40,\n",
       " 6952,\n",
       " 1515,\n",
       " 6685,\n",
       " 8415,\n",
       " 7369,\n",
       " 2045,\n",
       " 1684,\n",
       " 8727,\n",
       " 7347,\n",
       " 6685,\n",
       " 8415,\n",
       " 5581,\n",
       " 1387,\n",
       " 898,\n",
       " 2340,\n",
       " 183,\n",
       " 4569,\n",
       " 4913,\n",
       " 6652,\n",
       " 4598,\n",
       " 4456,\n",
       " 8116,\n",
       " 7296,\n",
       " 2336,\n",
       " 6623,\n",
       " 4290,\n",
       " 6832,\n",
       " 9134,\n",
       " 1366,\n",
       " 2211,\n",
       " 9717,\n",
       " 885,\n",
       " 9929,\n",
       " 5980,\n",
       " 6952,\n",
       " 4180,\n",
       " 1072,\n",
       " 7603,\n",
       " 8104,\n",
       " 851,\n",
       " 7735,\n",
       " 9385,\n",
       " 4993,\n",
       " 5870,\n",
       " 9134,\n",
       " 1366,\n",
       " 4163,\n",
       " 3139,\n",
       " 6952,\n",
       " 2811,\n",
       " 774,\n",
       " 1515,\n",
       " 5994,\n",
       " 885,\n",
       " 183,\n",
       " 4079,\n",
       " 4910,\n",
       " 80,\n",
       " 4597,\n",
       " 8082,\n",
       " 4079,\n",
       " 7327,\n",
       " 2932,\n",
       " 6819,\n",
       " 7630,\n",
       " 125,\n",
       " 6403,\n",
       " 6952,\n",
       " 6384,\n",
       " 2386,\n",
       " 2329,\n",
       " 3197,\n",
       " 570,\n",
       " 125,\n",
       " 3406,\n",
       " 4993,\n",
       " 6952,\n",
       " 3540,\n",
       " 570,\n",
       " 3406,\n",
       " 7603,\n",
       " 2932,\n",
       " 3156,\n",
       " 1072,\n",
       " 5089,\n",
       " 1537,\n",
       " 5142,\n",
       " 125,\n",
       " 7147,\n",
       " 7827,\n",
       " 4079,\n",
       " 1210,\n",
       " 4344,\n",
       " 9488,\n",
       " 40,\n",
       " 2512,\n",
       " 2352,\n",
       " 5595,\n",
       " 1375,\n",
       " 1515,\n",
       " 2566,\n",
       " 5142,\n",
       " 125,\n",
       " 3406,\n",
       " 6685,\n",
       " 8415,\n",
       " 6243,\n",
       " 1667,\n",
       " 2211,\n",
       " 4139,\n",
       " 2329,\n",
       " 885,\n",
       " 237,\n",
       " 7265,\n",
       " 885,\n",
       " 1992,\n",
       " 8285,\n",
       " 4079,\n",
       " 2862,\n",
       " 9881,\n",
       " 5428,\n",
       " 4007,\n",
       " 3867,\n",
       " 6685,\n",
       " 8415,\n",
       " 985,\n",
       " 8727,\n",
       " 2239,\n",
       " 4993,\n",
       " 4007,\n",
       " 6952,\n",
       " 5583,\n",
       " 4985,\n",
       " 7827,\n",
       " 4079,\n",
       " 7513,\n",
       " 3472,\n",
       " 4007,\n",
       " 4993,\n",
       " 9211,\n",
       " 8256,\n",
       " 2198,\n",
       " 8240,\n",
       " 6742,\n",
       " 1433,\n",
       " 358,\n",
       " 4240,\n",
       " 5099,\n",
       " 8415,\n",
       " 2340,\n",
       " 570,\n",
       " 8274,\n",
       " 6634,\n",
       " 328,\n",
       " 268,\n",
       " 5428,\n",
       " 4597,\n",
       " 6697,\n",
       " 3915,\n",
       " 6757,\n",
       " 9069,\n",
       " 3644,\n",
       " 2720,\n",
       " 5868,\n",
       " 4681,\n",
       " 3644,\n",
       " 6742,\n",
       " 8415,\n",
       " 815,\n",
       " 885,\n",
       " 8274,\n",
       " 8926,\n",
       " 9222,\n",
       " 2329,\n",
       " 5936,\n",
       " 3671,\n",
       " 3841,\n",
       " 4328,\n",
       " 992,\n",
       " 1742,\n",
       " 7645,\n",
       " 4180,\n",
       " 3629,\n",
       " 1072,\n",
       " 7603,\n",
       " 8104,\n",
       " 1961,\n",
       " 1515,\n",
       " 4910,\n",
       " 3915,\n",
       " 8415,\n",
       " 8115,\n",
       " 8104,\n",
       " 4395,\n",
       " 6030,\n",
       " 950,\n",
       " 6819,\n",
       " 6533,\n",
       " 4993,\n",
       " 6952,\n",
       " 1515,\n",
       " 8231,\n",
       " 6384,\n",
       " 4954,\n",
       " 8684,\n",
       " 7603,\n",
       " 2932,\n",
       " 3156,\n",
       " 7630,\n",
       " 125,\n",
       " 6130,\n",
       " 6952,\n",
       " 1515,\n",
       " 570,\n",
       " 3406,\n",
       " 4240,\n",
       " 7603,\n",
       " 2932,\n",
       " 3156,\n",
       " 6130,\n",
       " 3406,\n",
       " 5142,\n",
       " 3417,\n",
       " 3451,\n",
       " 125,\n",
       " 6685,\n",
       " 8415,\n",
       " 7369,\n",
       " 1572,\n",
       " 4376,\n",
       " 9198,\n",
       " 40,\n",
       " 1481,\n",
       " 4526,\n",
       " 885,\n",
       " 9929,\n",
       " 7456,\n",
       " 8415,\n",
       " 4797,\n",
       " 125,\n",
       " 3406,\n",
       " 6480,\n",
       " 839,\n",
       " 7499,\n",
       " 5309,\n",
       " 3375,\n",
       " 5428,\n",
       " 8175,\n",
       " 8415,\n",
       " 9199,\n",
       " 4569,\n",
       " 9198,\n",
       " 7603,\n",
       " 3683,\n",
       " 4993,\n",
       " 642,\n",
       " 4180,\n",
       " 8104,\n",
       " 1572,\n",
       " 5779,\n",
       " 8684,\n",
       " 8274,\n",
       " 8011,\n",
       " 3217,\n",
       " 4659,\n",
       " 6952,\n",
       " 1512,\n",
       " 6672,\n",
       " 2765,\n",
       " 1515,\n",
       " 8415,\n",
       " 570,\n",
       " 6097,\n",
       " 8231,\n",
       " 3139,\n",
       " 9450,\n",
       " 5146,\n",
       " 4910,\n",
       " 1643,\n",
       " 6202,\n",
       " 8324,\n",
       " 266,\n",
       " 6697,\n",
       " 6533,\n",
       " 6797,\n",
       " 4007,\n",
       " 266,\n",
       " 6697,\n",
       " 6797,\n",
       " 6952,\n",
       " 2719,\n",
       " 7698,\n",
       " 9089,\n",
       " 390,\n",
       " 6173,\n",
       " 8655,\n",
       " 4271,\n",
       " 8415,\n",
       " 4863,\n",
       " 2655,\n",
       " 1643,\n",
       " 4663,\n",
       " 183,\n",
       " 2045,\n",
       " 7943,\n",
       " 851,\n",
       " 7735,\n",
       " 8976,\n",
       " 3476,\n",
       " 5623,\n",
       " 6533,\n",
       " 3808,\n",
       " 9403,\n",
       " 2932,\n",
       " 3156,\n",
       " 2825,\n",
       " 5375,\n",
       " 3771,\n",
       " 3375,\n",
       " 8781,\n",
       " 5437,\n",
       " 4718,\n",
       " 3701,\n",
       " 4993,\n",
       " 952,\n",
       " 7697,\n",
       " 8415,\n",
       " 8575,\n",
       " 5537,\n",
       " 7797,\n",
       " 570,\n",
       " 6799,\n",
       " 4356,\n",
       " 5388,\n",
       " 5450,\n",
       " 5513,\n",
       " 5572,\n",
       " 2576,\n",
       " 2872,\n",
       " 720,\n",
       " 175,\n",
       " 7169,\n",
       " 6495,\n",
       " 8591,\n",
       " 2286,\n",
       " 7025,\n",
       " 5356,\n",
       " 570,\n",
       " 1072,\n",
       " 3659,\n",
       " 5897,\n",
       " 9868,\n",
       " 208,\n",
       " 8415,\n",
       " 7749,\n",
       " 6752,\n",
       " 314,\n",
       " 6338,\n",
       " 3139,\n",
       " 6869,\n",
       " 7513,\n",
       " 918,\n",
       " 7492,\n",
       " 1072,\n",
       " 2763,\n",
       " 570,\n",
       " 6667,\n",
       " 9385,\n",
       " 5870,\n",
       " 9134,\n",
       " 1366,\n",
       " 2211,\n",
       " 2045,\n",
       " 1684,\n",
       " 2045,\n",
       " 3771,\n",
       " 586,\n",
       " 3857,\n",
       " 7278,\n",
       " 1606,\n",
       " 2296,\n",
       " 1126,\n",
       " 7271,\n",
       " 9766,\n",
       " 3990,\n",
       " 3139,\n",
       " 3156,\n",
       " 155,\n",
       " 4526,\n",
       " 3715,\n",
       " 8801,\n",
       " 4655,\n",
       " 155,\n",
       " 4526,\n",
       " 9134,\n",
       " 264,\n",
       " 8022,\n",
       " 4567,\n",
       " 4448,\n",
       " 7622,\n",
       " 8099,\n",
       " 141,\n",
       " 4209,\n",
       " 5745,\n",
       " 1829,\n",
       " 9040,\n",
       " 5796,\n",
       " 1325,\n",
       " 9069,\n",
       " 9143,\n",
       " 4910,\n",
       " 4993,\n",
       " 3217,\n",
       " 4659,\n",
       " 4567,\n",
       " 7586,\n",
       " 6538,\n",
       " 5394,\n",
       " 8684,\n",
       " 9183,\n",
       " 7921,\n",
       " 2836,\n",
       " 2557,\n",
       " 6671,\n",
       " 2045,\n",
       " 6665,\n",
       " 9937,\n",
       " 7921]"
      ]
     },
     "execution_count": 15,
     "metadata": {},
     "output_type": "execute_result"
    }
   ],
   "source": [
    "one_hot_rp=[one_hot(words,vocab_size)for words in corpus]\n",
    "one_hot_rp[0]"
   ]
  },
  {
   "cell_type": "markdown",
   "metadata": {
    "id": "REJoPWSAWUIN"
   },
   "source": [
    "## Embedding Representation"
   ]
  },
  {
   "cell_type": "code",
   "execution_count": null,
   "metadata": {
    "colab": {
     "base_uri": "https://localhost:8080/",
     "height": 34
    },
    "id": "BvaaoRYkSb5U",
    "outputId": "f45f1444-6e09-46a9-d9cc-763f167e07cd"
   },
   "outputs": [
    {
     "data": {
      "text/plain": [
       "524"
      ]
     },
     "execution_count": 16,
     "metadata": {},
     "output_type": "execute_result"
    }
   ],
   "source": [
    "s_len=len(max(corpus))\n",
    "s_len"
   ]
  },
  {
   "cell_type": "code",
   "execution_count": null,
   "metadata": {
    "colab": {
     "base_uri": "https://localhost:8080/",
     "height": 833
    },
    "id": "R97CXuFtPmrX",
    "outputId": "71d8d185-bb5d-46b0-928b-6f9138ab7e97"
   },
   "outputs": [
    {
     "data": {
      "text/plain": [
       "array([   0,    0,    0,    0,    0,    0,    0,    0,    0,    0,    0,\n",
       "          0,    0,    0,    0,    0,    0,    0,    0,    0,    0,    0,\n",
       "          0,    0,    0,    0,    0,    0,    0,    0,    0,    0,    0,\n",
       "          0,    0,    0,    0,    0,    0,    0,    0,    0,    0,    0,\n",
       "          0,    0,    0,    0,    0,    0,    0,    0,    0,    0,    0,\n",
       "          0,    0,    0,    0,    0,    0,    0,    0,    0,    0,    0,\n",
       "          0,    0,    0,    0,    0,    0,    0,    0,    0,    0,    0,\n",
       "          0,    0,    0,    0,    0,    0,    0,    0,    0,    0,    0,\n",
       "          0,    0,    0, 1072, 7586, 8104, 6533,   40, 6952, 1515, 6685,\n",
       "       8415, 7369, 2045, 1684, 8727, 7347, 6685, 8415, 5581, 1387,  898,\n",
       "       2340,  183, 4569, 4913, 6652, 4598, 4456, 8116, 7296, 2336, 6623,\n",
       "       4290, 6832, 9134, 1366, 2211, 9717,  885, 9929, 5980, 6952, 4180,\n",
       "       1072, 7603, 8104,  851, 7735, 9385, 4993, 5870, 9134, 1366, 4163,\n",
       "       3139, 6952, 2811,  774, 1515, 5994,  885,  183, 4079, 4910,   80,\n",
       "       4597, 8082, 4079, 7327, 2932, 6819, 7630,  125, 6403, 6952, 6384,\n",
       "       2386, 2329, 3197,  570,  125, 3406, 4993, 6952, 3540,  570, 3406,\n",
       "       7603, 2932, 3156, 1072, 5089, 1537, 5142,  125, 7147, 7827, 4079,\n",
       "       1210, 4344, 9488,   40, 2512, 2352, 5595, 1375, 1515, 2566, 5142,\n",
       "        125, 3406, 6685, 8415, 6243, 1667, 2211, 4139, 2329,  885,  237,\n",
       "       7265,  885, 1992, 8285, 4079, 2862, 9881, 5428, 4007, 3867, 6685,\n",
       "       8415,  985, 8727, 2239, 4993, 4007, 6952, 5583, 4985, 7827, 4079,\n",
       "       7513, 3472, 4007, 4993, 9211, 8256, 2198, 8240, 6742, 1433,  358,\n",
       "       4240, 5099, 8415, 2340,  570, 8274, 6634,  328,  268, 5428, 4597,\n",
       "       6697, 3915, 6757, 9069, 3644, 2720, 5868, 4681, 3644, 6742, 8415,\n",
       "        815,  885, 8274, 8926, 9222, 2329, 5936, 3671, 3841, 4328,  992,\n",
       "       1742, 7645, 4180, 3629, 1072, 7603, 8104, 1961, 1515, 4910, 3915,\n",
       "       8415, 8115, 8104, 4395, 6030,  950, 6819, 6533, 4993, 6952, 1515,\n",
       "       8231, 6384, 4954, 8684, 7603, 2932, 3156, 7630,  125, 6130, 6952,\n",
       "       1515,  570, 3406, 4240, 7603, 2932, 3156, 6130, 3406, 5142, 3417,\n",
       "       3451,  125, 6685, 8415, 7369, 1572, 4376, 9198,   40, 1481, 4526,\n",
       "        885, 9929, 7456, 8415, 4797,  125, 3406, 6480,  839, 7499, 5309,\n",
       "       3375, 5428, 8175, 8415, 9199, 4569, 9198, 7603, 3683, 4993,  642,\n",
       "       4180, 8104, 1572, 5779, 8684, 8274, 8011, 3217, 4659, 6952, 1512,\n",
       "       6672, 2765, 1515, 8415,  570, 6097, 8231, 3139, 9450, 5146, 4910,\n",
       "       1643, 6202, 8324,  266, 6697, 6533, 6797, 4007,  266, 6697, 6797,\n",
       "       6952, 2719, 7698, 9089,  390, 6173, 8655, 4271, 8415, 4863, 2655,\n",
       "       1643, 4663,  183, 2045, 7943,  851, 7735, 8976, 3476, 5623, 6533,\n",
       "       3808, 9403, 2932, 3156, 2825, 5375, 3771, 3375, 8781, 5437, 4718,\n",
       "       3701, 4993,  952, 7697, 8415, 8575, 5537, 7797,  570, 6799, 4356,\n",
       "       5388, 5450, 5513, 5572, 2576, 2872,  720,  175, 7169, 6495, 8591,\n",
       "       2286, 7025, 5356,  570, 1072, 3659, 5897, 9868,  208, 8415, 7749,\n",
       "       6752,  314, 6338, 3139, 6869, 7513,  918, 7492, 1072, 2763,  570,\n",
       "       6667, 9385, 5870, 9134, 1366, 2211, 2045, 1684, 2045, 3771,  586,\n",
       "       3857, 7278, 1606, 2296, 1126, 7271, 9766, 3990, 3139, 3156,  155,\n",
       "       4526, 3715, 8801, 4655,  155, 4526, 9134,  264, 8022, 4567, 4448,\n",
       "       7622, 8099,  141, 4209, 5745, 1829, 9040, 5796, 1325, 9069, 9143,\n",
       "       4910, 4993, 3217, 4659, 4567, 7586, 6538, 5394, 8684, 9183, 7921,\n",
       "       2836, 2557, 6671, 2045, 6665, 9937, 7921], dtype=int32)"
      ]
     },
     "execution_count": 17,
     "metadata": {},
     "output_type": "execute_result"
    }
   ],
   "source": [
    "embedding_docs=pad_sequences(one_hot_rp,padding='pre',maxlen=s_len)\n",
    "embedding_docs[0]"
   ]
  },
  {
   "cell_type": "markdown",
   "metadata": {
    "id": "_qLVO2ACWbGo"
   },
   "source": [
    "## Creating Model"
   ]
  },
  {
   "cell_type": "code",
   "execution_count": null,
   "metadata": {
    "colab": {
     "base_uri": "https://localhost:8080/",
     "height": 323
    },
    "id": "wUzVpKtMQ2xA",
    "outputId": "ad3e23aa-3213-41dd-91f9-57b4cfb75b5b"
   },
   "outputs": [
    {
     "name": "stdout",
     "output_type": "stream",
     "text": [
      "Metal device set to: Apple M1\n"
     ]
    },
    {
     "name": "stderr",
     "output_type": "stream",
     "text": [
      "2022-08-23 16:09:41.532099: I tensorflow/core/common_runtime/pluggable_device/pluggable_device_factory.cc:305] Could not identify NUMA node of platform GPU ID 0, defaulting to 0. Your kernel may not have been built with NUMA support.\n",
      "2022-08-23 16:09:41.533914: I tensorflow/core/common_runtime/pluggable_device/pluggable_device_factory.cc:271] Created TensorFlow device (/job:localhost/replica:0/task:0/device:GPU:0 with 0 MB memory) -> physical PluggableDevice (device: 0, name: METAL, pci bus id: <undefined>)\n"
     ]
    },
    {
     "name": "stdout",
     "output_type": "stream",
     "text": [
      "Model: \"sequential\"\n",
      "_________________________________________________________________\n",
      " Layer (type)                Output Shape              Param #   \n",
      "=================================================================\n",
      " embedding (Embedding)       (None, 524, 40)           400000    \n",
      "                                                                 \n",
      " dropout (Dropout)           (None, 524, 40)           0         \n",
      "                                                                 \n",
      " lstm (LSTM)                 (None, 100)               56400     \n",
      "                                                                 \n",
      " dropout_1 (Dropout)         (None, 100)               0         \n",
      "                                                                 \n",
      " dense (Dense)               (None, 1)                 101       \n",
      "                                                                 \n",
      "=================================================================\n",
      "Total params: 456,501\n",
      "Trainable params: 456,501\n",
      "Non-trainable params: 0\n",
      "_________________________________________________________________\n"
     ]
    }
   ],
   "source": [
    "emb_vector_features=40\n",
    "model=Sequential()\n",
    "model.add(Embedding(vocab_size,emb_vector_features,input_length=s_len))\n",
    "model.add(Dropout(0.3))\n",
    "model.add(LSTM(100))\n",
    "model.add(Dropout(0.3))\n",
    "model.add(Dense(1,activation='sigmoid'))\n",
    "model.compile(loss='binary_crossentropy',optimizer='adam',metrics=['accuracy'])\n",
    "model.summary()"
   ]
  },
  {
   "cell_type": "code",
   "execution_count": null,
   "metadata": {
    "colab": {
     "base_uri": "https://localhost:8080/",
     "height": 34
    },
    "id": "jlqQ8JaLRyct",
    "outputId": "e7bd5f03-eb4e-491e-b5c1-d121700e45a4"
   },
   "outputs": [
    {
     "data": {
      "text/plain": [
       "(18285, (18285,))"
      ]
     },
     "execution_count": 19,
     "metadata": {},
     "output_type": "execute_result"
    }
   ],
   "source": [
    "len(embedding_docs),y.shape"
   ]
  },
  {
   "cell_type": "code",
   "execution_count": null,
   "metadata": {
    "id": "Nx2EqLFKS3mZ"
   },
   "outputs": [],
   "source": [
    "import numpy as np\n",
    "x_final=np.array(embedding_docs)\n",
    "y_final=np.array(y)"
   ]
  },
  {
   "cell_type": "code",
   "execution_count": null,
   "metadata": {
    "colab": {
     "base_uri": "https://localhost:8080/",
     "height": 34
    },
    "id": "RqijgFgnTGfF",
    "outputId": "102e71a1-b3a1-4427-d51b-0955a7b030bf"
   },
   "outputs": [
    {
     "data": {
      "text/plain": [
       "((18285, 524), (18285,))"
      ]
     },
     "execution_count": 21,
     "metadata": {},
     "output_type": "execute_result"
    }
   ],
   "source": [
    "x_final.shape,y_final.shape"
   ]
  },
  {
   "cell_type": "code",
   "execution_count": null,
   "metadata": {
    "id": "1NUs7M4DTKh0"
   },
   "outputs": [],
   "source": [
    "from sklearn.model_selection import train_test_split\n",
    "x_train,x_test,y_train,y_test=train_test_split(x_final,y_final,test_size=0.33,random_state=33)"
   ]
  },
  {
   "cell_type": "markdown",
   "metadata": {
    "id": "mBB4rbNQWLQP"
   },
   "source": [
    "## Model Training"
   ]
  },
  {
   "cell_type": "code",
   "execution_count": null,
   "metadata": {
    "colab": {
     "base_uri": "https://localhost:8080/",
     "height": 374
    },
    "id": "9ISo_OuRTeGn",
    "outputId": "11d83aa6-e65c-411f-f00a-a6307b692281"
   },
   "outputs": [
    {
     "name": "stdout",
     "output_type": "stream",
     "text": [
      "Epoch 1/10\n"
     ]
    },
    {
     "name": "stderr",
     "output_type": "stream",
     "text": [
      "2022-08-23 16:09:41.981221: W tensorflow/core/platform/profile_utils/cpu_utils.cc:128] Failed to get CPU frequency: 0 Hz\n",
      "2022-08-23 16:09:42.987201: I tensorflow/core/grappler/optimizers/custom_graph_optimizer_registry.cc:113] Plugin optimizer for device_type GPU is enabled.\n",
      "2022-08-23 16:09:43.140944: I tensorflow/core/grappler/optimizers/custom_graph_optimizer_registry.cc:113] Plugin optimizer for device_type GPU is enabled.\n",
      "2022-08-23 16:09:44.035218: I tensorflow/core/grappler/optimizers/custom_graph_optimizer_registry.cc:113] Plugin optimizer for device_type GPU is enabled.\n"
     ]
    },
    {
     "name": "stdout",
     "output_type": "stream",
     "text": [
      "192/192 [==============================] - ETA: 0s - loss: 0.4608 - accuracy: 0.7626"
     ]
    },
    {
     "name": "stderr",
     "output_type": "stream",
     "text": [
      "2022-08-23 16:10:13.315031: I tensorflow/core/grappler/optimizers/custom_graph_optimizer_registry.cc:113] Plugin optimizer for device_type GPU is enabled.\n",
      "2022-08-23 16:10:13.363504: I tensorflow/core/grappler/optimizers/custom_graph_optimizer_registry.cc:113] Plugin optimizer for device_type GPU is enabled.\n"
     ]
    },
    {
     "name": "stdout",
     "output_type": "stream",
     "text": [
      "192/192 [==============================] - 39s 179ms/step - loss: 0.4608 - accuracy: 0.7626 - val_loss: 0.2747 - val_accuracy: 0.8895\n",
      "Epoch 2/10\n",
      "192/192 [==============================] - 30s 155ms/step - loss: 0.1720 - accuracy: 0.9390 - val_loss: 0.2300 - val_accuracy: 0.9051\n",
      "Epoch 3/10\n",
      "192/192 [==============================] - 31s 160ms/step - loss: 0.1156 - accuracy: 0.9632 - val_loss: 0.2320 - val_accuracy: 0.9057\n",
      "Epoch 4/10\n",
      "192/192 [==============================] - 31s 160ms/step - loss: 0.1023 - accuracy: 0.9673 - val_loss: 0.2604 - val_accuracy: 0.9120\n",
      "Epoch 5/10\n",
      "192/192 [==============================] - 31s 159ms/step - loss: 0.0578 - accuracy: 0.9833 - val_loss: 0.2764 - val_accuracy: 0.9153\n",
      "Epoch 6/10\n",
      "192/192 [==============================] - 30s 158ms/step - loss: 0.1179 - accuracy: 0.9572 - val_loss: 0.2685 - val_accuracy: 0.9122\n",
      "Epoch 7/10\n",
      "192/192 [==============================] - 30s 158ms/step - loss: 0.0545 - accuracy: 0.9851 - val_loss: 0.3289 - val_accuracy: 0.9148\n",
      "Epoch 8/10\n",
      "192/192 [==============================] - 30s 158ms/step - loss: 0.0330 - accuracy: 0.9910 - val_loss: 0.3256 - val_accuracy: 0.9069\n",
      "Epoch 9/10\n",
      "192/192 [==============================] - 31s 161ms/step - loss: 0.0219 - accuracy: 0.9948 - val_loss: 0.3673 - val_accuracy: 0.9125\n",
      "Epoch 10/10\n",
      "192/192 [==============================] - 30s 158ms/step - loss: 0.0152 - accuracy: 0.9964 - val_loss: 0.3699 - val_accuracy: 0.9128\n"
     ]
    },
    {
     "data": {
      "text/plain": [
       "<keras.callbacks.History at 0x2c2e7aac0>"
      ]
     },
     "execution_count": 23,
     "metadata": {},
     "output_type": "execute_result"
    }
   ],
   "source": [
    "model.fit(x_train,y_train,validation_data=(x_test,y_test),epochs=10,batch_size=64)"
   ]
  },
  {
   "cell_type": "markdown",
   "metadata": {
    "id": "gyoZ7Rv8WFVd"
   },
   "source": [
    "## Evaluation of the Model"
   ]
  },
  {
   "cell_type": "code",
   "execution_count": null,
   "metadata": {
    "colab": {
     "base_uri": "https://localhost:8080/",
     "height": 34
    },
    "id": "zZld62HJTqHX",
    "outputId": "f5bee0d5-02ed-4994-ee6f-153af95f4f55"
   },
   "outputs": [
    {
     "name": "stderr",
     "output_type": "stream",
     "text": [
      "2022-08-23 16:14:54.917163: I tensorflow/core/grappler/optimizers/custom_graph_optimizer_registry.cc:113] Plugin optimizer for device_type GPU is enabled.\n",
      "2022-08-23 16:14:54.974181: I tensorflow/core/grappler/optimizers/custom_graph_optimizer_registry.cc:113] Plugin optimizer for device_type GPU is enabled.\n"
     ]
    },
    {
     "name": "stdout",
     "output_type": "stream",
     "text": [
      "189/189 [==============================] - 13s 64ms/step\n"
     ]
    }
   ],
   "source": [
    "y_pred=model.predict(x_test)"
   ]
  },
  {
   "cell_type": "code",
   "execution_count": null,
   "metadata": {
    "id": "x1GTJk9rhTdM",
    "outputId": "69b67eb9-480e-40d3-bbd3-7332da73100d"
   },
   "outputs": [
    {
     "data": {
      "text/plain": [
       "(array([2310.,  118.,   50.,   42.,   66.,   41.,   44.,   68.,  188.,\n",
       "        3108.]),\n",
       " array([0. , 0.1, 0.2, 0.3, 0.4, 0.5, 0.6, 0.7, 0.8, 0.9, 1. ]),\n",
       " <BarContainer object of 10 artists>)"
      ]
     },
     "execution_count": 25,
     "metadata": {},
     "output_type": "execute_result"
    },
    {
     "data": {
      "image/png": "[encoded data removed]",
      "text/plain": [
       "<Figure size 640x480 with 1 Axes>"
      ]
     },
     "metadata": {},
     "output_type": "display_data"
    }
   ],
   "source": [
    "tmp=y_pred.flatten()\n",
    "plt.hist(tmp, bins = [0, 0.1, 0.2, 0.3, 0.4,0.5, 0.6, 0.7, 0.8, 0.9,1])"
   ]
  },
  {
   "cell_type": "code",
   "execution_count": null,
   "metadata": {
    "id": "xhi2QKvXhTdM",
    "outputId": "1379feb7-e5eb-47c1-9dfe-05c36ec40e7f"
   },
   "outputs": [
    {
     "name": "stdout",
     "output_type": "stream",
     "text": [
      "Best Accuracy:  85.71665285832643\n",
      "Best Threshold:  0.9500000000000001\n"
     ]
    }
   ],
   "source": [
    "#finding best threshold\n",
    "max_acc=-1\n",
    "best_thresh=0\n",
    "for threshold in np.arange(0,1,0.05):\n",
    "    tmp=y_pred\n",
    "    tmp=np.where(tmp > threshold, 1,0)\n",
    "    acc=accuracy_score(y_test,tmp)*100\n",
    "    if acc>max_acc:\n",
    "        max_acc=acc\n",
    "        best_thresh=threshold\n",
    "print(\"Best Accuracy: \",max_acc)\n",
    "print(\"Best Threshold: \",best_thresh)"
   ]
  },
  {
   "cell_type": "code",
   "execution_count": null,
   "metadata": {
    "colab": {
     "base_uri": "https://localhost:8080/",
     "height": 51
    },
    "id": "vVBUG9TZUHZb",
    "outputId": "5a09e91a-abd4-4937-bbbd-52ef7ae3e99f"
   },
   "outputs": [
    {
     "data": {
      "text/plain": [
       "array([[2870,  592],\n",
       "       [ 270, 2303]])"
      ]
     },
     "execution_count": 27,
     "metadata": {},
     "output_type": "execute_result"
    }
   ],
   "source": [
    "y_pred=np.where(y_pred > best_thresh, 1,0)\n",
    "confusion_matrix(y_test,y_pred)"
   ]
  },
  {
   "cell_type": "code",
   "execution_count": null,
   "metadata": {
    "colab": {
     "base_uri": "https://localhost:8080/",
     "height": 34
    },
    "id": "YtBTfrJUUddW",
    "outputId": "9af767f5-c066-48cd-86db-8a6c47a86222"
   },
   "outputs": [
    {
     "data": {
      "text/plain": [
       "85.71665285832643"
      ]
     },
     "execution_count": 28,
     "metadata": {},
     "output_type": "execute_result"
    }
   ],
   "source": [
    "accuracy_score(y_test,y_pred)*100"
   ]
  },
  {
   "cell_type": "markdown",
   "metadata": {
    "id": "Tkv4vA3qh2ob"
   },
   "source": [
    "## Hugging Face Approach"
   ]
  },
  {
   "cell_type": "code",
   "execution_count": 9,
   "metadata": {
    "colab": {
     "base_uri": "https://localhost:8080/"
    },
    "id": "gYLV8FG-hj4p",
    "outputId": "b6c85fd4-bc5d-4072-b555-35b69b792106"
   },
   "outputs": [
    {
     "name": "stdout",
     "output_type": "stream",
     "text": [
      "Requirement already satisfied: transformers in c:\\users\\aniru\\anaconda3\\lib\\site-packages (4.30.2)\n",
      "Requirement already satisfied: safetensors>=0.3.1 in c:\\users\\aniru\\anaconda3\\lib\\site-packages (from transformers) (0.3.1)\n",
      "Requirement already satisfied: requests in c:\\users\\aniru\\anaconda3\\lib\\site-packages (from transformers) (2.28.1)\n",
      "Requirement already satisfied: packaging>=20.0 in c:\\users\\aniru\\anaconda3\\lib\\site-packages (from transformers) (22.0)\n",
      "Requirement already satisfied: filelock in c:\\users\\aniru\\anaconda3\\lib\\site-packages (from transformers) (3.9.0)\n",
      "Requirement already satisfied: regex!=2019.12.17 in c:\\users\\aniru\\anaconda3\\lib\\site-packages (from transformers) (2022.7.9)\n",
      "Requirement already satisfied: pyyaml>=5.1 in c:\\users\\aniru\\anaconda3\\lib\\site-packages (from transformers) (6.0)\n",
      "Requirement already satisfied: tokenizers!=0.11.3,<0.14,>=0.11.1 in c:\\users\\aniru\\anaconda3\\lib\\site-packages (from transformers) (0.11.4)\n",
      "Requirement already satisfied: tqdm>=4.27 in c:\\users\\aniru\\anaconda3\\lib\\site-packages (from transformers) (4.64.1)\n",
      "Requirement already satisfied: numpy>=1.17 in c:\\users\\aniru\\anaconda3\\lib\\site-packages (from transformers) (1.23.5)\n",
      "Requirement already satisfied: huggingface-hub<1.0,>=0.14.1 in c:\\users\\aniru\\anaconda3\\lib\\site-packages (from transformers) (0.15.1)\n",
      "Requirement already satisfied: fsspec in c:\\users\\aniru\\anaconda3\\lib\\site-packages (from huggingface-hub<1.0,>=0.14.1->transformers) (2022.11.0)\n",
      "Requirement already satisfied: typing-extensions>=3.7.4.3 in c:\\users\\aniru\\anaconda3\\lib\\site-packages (from huggingface-hub<1.0,>=0.14.1->transformers) (4.4.0)\n",
      "Requirement already satisfied: colorama in c:\\users\\aniru\\anaconda3\\lib\\site-packages (from tqdm>=4.27->transformers) (0.4.6)\n",
      "Requirement already satisfied: charset-normalizer<3,>=2 in c:\\users\\aniru\\anaconda3\\lib\\site-packages (from requests->transformers) (2.0.4)\n",
      "Requirement already satisfied: idna<4,>=2.5 in c:\\users\\aniru\\anaconda3\\lib\\site-packages (from requests->transformers) (3.4)\n",
      "Requirement already satisfied: certifi>=2017.4.17 in c:\\users\\aniru\\anaconda3\\lib\\site-packages (from requests->transformers) (2023.5.7)\n",
      "Requirement already satisfied: urllib3<1.27,>=1.21.1 in c:\\users\\aniru\\anaconda3\\lib\\site-packages (from requests->transformers) (1.26.14)\n"
     ]
    }
   ],
   "source": [
    "!pip install transformers"
   ]
  },
  {
   "cell_type": "code",
   "execution_count": 10,
   "metadata": {
    "id": "Hz1XCWKsh9Qq"
   },
   "outputs": [],
   "source": [
    "from transformers import DistilBertTokenizerFast\n",
    "tokenizer=DistilBertTokenizerFast.from_pretrained('distilbert-base-uncased')"
   ]
  },
  {
   "cell_type": "code",
   "execution_count": 11,
   "metadata": {
    "id": "yB7EA1AgoeAp"
   },
   "outputs": [],
   "source": [
    "from sklearn.model_selection import train_test_split\n",
    "\n",
    "y = [str(value) for value in y]\n",
    "\n",
    "x_train,x_test,y_train,y_test = train_test_split(list(x['title']),y,test_size=0.2,stratify=y,random_state=0)"
   ]
  },
  {
   "cell_type": "code",
   "execution_count": 12,
   "metadata": {
    "id": "TonK4NFFiBvg"
   },
   "outputs": [],
   "source": [
    "train_encodings=tokenizer(x_train,truncation=True,padding=True)\n",
    "test_encodings=tokenizer(x_test,truncation=True,padding=True)"
   ]
  },
  {
   "cell_type": "code",
   "execution_count": 13,
   "metadata": {
    "colab": {
     "base_uri": "https://localhost:8080/"
    },
    "id": "GIwfBis3iEDR",
    "outputId": "a0cbbeda-3fb5-469b-9ce6-98fdce62da07"
   },
   "outputs": [
    {
     "data": {
      "text/plain": [
       "Encoding(num_tokens=63, attributes=[ids, type_ids, tokens, offsets, attention_mask, special_tokens_mask, overflowing])"
      ]
     },
     "execution_count": 13,
     "metadata": {},
     "output_type": "execute_result"
    }
   ],
   "source": [
    "train_encodings[0]"
   ]
  },
  {
   "cell_type": "code",
   "execution_count": 14,
   "metadata": {
    "id": "KCLuxCWoiG56"
   },
   "outputs": [],
   "source": [
    "import tensorflow as tf\n",
    "\n",
    "train_data = tf.data.Dataset.from_tensor_slices((dict(train_encodings),y_train))\n",
    "test_data = tf.data.Dataset.from_tensor_slices((dict(test_encodings),y_test))"
   ]
  },
  {
   "cell_type": "code",
   "execution_count": 15,
   "metadata": {
    "colab": {
     "base_uri": "https://localhost:8080/"
    },
    "id": "QcgXYiVz7BB4",
    "outputId": "b01a5f69-d901-4326-fda3-6da36b785ba5"
   },
   "outputs": [
    {
     "data": {
      "text/plain": [
       "<_TensorSliceDataset element_spec=({'input_ids': TensorSpec(shape=(63,), dtype=tf.int32, name=None), 'attention_mask': TensorSpec(shape=(63,), dtype=tf.int32, name=None)}, TensorSpec(shape=(), dtype=tf.string, name=None))>"
      ]
     },
     "execution_count": 15,
     "metadata": {},
     "output_type": "execute_result"
    }
   ],
   "source": [
    "train_data"
   ]
  },
  {
   "cell_type": "code",
   "execution_count": 16,
   "metadata": {
    "id": "zDoGQOG1iKIh"
   },
   "outputs": [],
   "source": [
    "from transformers import TFDistilBertForSequenceClassification, TFTrainer, TFTrainingArguments\n",
    "\n",
    "training_args = TFTrainingArguments(\n",
    "    output_dir='./results',          # output directory\n",
    "    num_train_epochs=2,              # total number of training epochs\n",
    "    per_device_train_batch_size=8,  # batch size per device during training\n",
    "    per_device_eval_batch_size=16,   # batch size for evaluation\n",
    "    warmup_steps=500,                # number of warmup steps for learning rate scheduler\n",
    "    weight_decay=0.01,               # strength of weight decay\n",
    "    logging_dir='./logs',            # directory for storing logs\n",
    "    logging_steps=10,\n",
    "    eval_steps=100\n",
    ")"
   ]
  },
  {
   "cell_type": "code",
   "execution_count": null,
   "metadata": {
    "colab": {
     "base_uri": "https://localhost:8080/",
     "height": 591
    },
    "id": "WPtg5o0UiMMa",
    "outputId": "42aa36d1-d321-4fdf-f3e6-7c46aea8ffd7"
   },
   "outputs": [
    {
     "name": "stderr",
     "output_type": "stream",
     "text": [
      "Some weights of the PyTorch model were not used when initializing the TF 2.0 model TFDistilBertForSequenceClassification: ['vocab_projector.bias', 'vocab_layer_norm.bias', 'vocab_transform.weight', 'vocab_layer_norm.weight', 'vocab_transform.bias']\n",
      "- This IS expected if you are initializing TFDistilBertForSequenceClassification from a PyTorch model trained on another task or with another architecture (e.g. initializing a TFBertForSequenceClassification model from a BertForPreTraining model).\n",
      "- This IS NOT expected if you are initializing TFDistilBertForSequenceClassification from a PyTorch model that you expect to be exactly identical (e.g. initializing a TFBertForSequenceClassification model from a BertForSequenceClassification model).\n",
      "Some weights or buffers of the TF 2.0 model TFDistilBertForSequenceClassification were not initialized from the PyTorch model and are newly initialized: ['pre_classifier.weight', 'pre_classifier.bias', 'classifier.weight', 'classifier.bias']\n",
      "You should probably TRAIN this model on a down-stream task to be able to use it for predictions and inference.\n"
     ]
    }
   ],
   "source": [
    "with training_args.strategy.scope():\n",
    "    model = TFDistilBertForSequenceClassification.from_pretrained('distilbert-base-uncased')\n",
    "\n",
    "trainer = TFTrainer(model=model,args=training_args,train_dataset=train_data,eval_dataset=test_data)\n",
    "\n",
    "trainer.train()"
   ]
  },
  {
   "cell_type": "code",
   "execution_count": 16,
   "metadata": {
    "colab": {
     "base_uri": "https://localhost:8080/"
    },
    "id": "Q-g5NiMsxyiV",
    "outputId": "dfdbdd7b-6793-47f6-9e5f-d935a4013c34"
   },
   "outputs": [
    {
     "data": {
      "text/plain": [
       "0    15983\n",
       "1    12277\n",
       "Name: label, dtype: int64"
      ]
     },
     "execution_count": 16,
     "metadata": {},
     "output_type": "execute_result"
    }
   ],
   "source": [
    "y.value_counts()"
   ]
  },
  {
   "cell_type": "code",
   "execution_count": null,
   "metadata": {
    "id": "4by8sqz_iOQt"
   },
   "outputs": [],
   "source": [
    "trainer.save_model('fake_news_model')"
   ]
  },
  {
   "cell_type": "code",
   "execution_count": null,
   "metadata": {
    "id": "oIBsmgeciQ-5"
   },
   "outputs": [],
   "source": [
    "trainer.evaluate(test_data)"
   ]
  },
  {
   "cell_type": "code",
   "execution_count": null,
   "metadata": {
    "id": "04NOu1ddiSxI"
   },
   "outputs": [],
   "source": [
    "y_pred = trainer.predict(test_data)[1]"
   ]
  },
  {
   "cell_type": "code",
   "execution_count": null,
   "metadata": {
    "id": "8Q5oAblKiUrB"
   },
   "outputs": [],
   "source": [
    "accuracy_score(y_test,y_pred)*100"
   ]
  }
 ],
 "metadata": {
  "accelerator": "GPU",
  "colab": {
   "provenance": []
  },
  "kernelspec": {
   "display_name": "Python 3 (ipykernel)",
   "language": "python",
   "name": "python3"
  },
  "language_info": {
   "codemirror_mode": {
    "name": "ipython",
    "version": 3
   },
   "file_extension": ".py",
   "mimetype": "text/x-python",
   "name": "python",
   "nbconvert_exporter": "python",
   "pygments_lexer": "ipython3",
   "version": "3.10.9"
  }
 },
 "nbformat": 4,
 "nbformat_minor": 1
}
