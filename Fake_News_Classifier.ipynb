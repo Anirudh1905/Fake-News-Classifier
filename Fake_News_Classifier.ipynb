{
 "cells": [
  {
   "cell_type": "markdown",
   "metadata": {
    "colab_type": "text",
    "id": "view-in-github"
   },
   "source": [
    "<a href=\"https://colab.research.google.com/github/Anirudh1905/Fake-News-Classifier/blob/master/Fake_News_Classifier.ipynb\" target=\"_parent\"><img src=\"https://colab.research.google.com/assets/colab-badge.svg\" alt=\"Open In Colab\"/></a>"
   ]
  },
  {
   "cell_type": "markdown",
   "metadata": {
    "colab_type": "text",
    "id": "rZThChxEV4RG"
   },
   "source": [
    "# Fake News Classifier"
   ]
  },
  {
   "cell_type": "markdown",
   "metadata": {
    "colab_type": "text",
    "id": "BeR9bo9QV4oL"
   },
   "source": [
    "## Importing the Data"
   ]
  },
  {
   "cell_type": "code",
   "execution_count": 1,
   "metadata": {
    "colab": {},
    "colab_type": "code",
    "id": "VgGiVYcn8OCq"
   },
   "outputs": [],
   "source": [
    "import time\n",
    "import nltk \n",
    "import re\n",
    "import pandas as pd\n",
    "import numpy as np\n",
    "import tensorflow as tf\n",
    "from nltk.stem import WordNetLemmatizer\n",
    "import multiprocess as mp\n",
    "from nltk.corpus import stopwords\n",
    "from matplotlib import pyplot as plt\n",
    "from tensorflow.keras.layers import Embedding,LSTM,Dense,Dropout\n",
    "from tensorflow.keras.models import Sequential\n",
    "from tensorflow.keras.preprocessing.sequence import pad_sequences\n",
    "from tensorflow.keras.preprocessing.text import one_hot\n",
    "from sklearn.metrics import accuracy_score\n",
    "from sklearn.metrics import confusion_matrix\n",
    "import warnings\n",
    "warnings.filterwarnings(\"ignore\")"
   ]
  },
  {
   "cell_type": "code",
   "execution_count": 2,
   "metadata": {
    "colab": {
     "base_uri": "https://localhost:8080/",
     "height": 204
    },
    "colab_type": "code",
    "id": "_3VAQFSLJGGr",
    "outputId": "f7425587-53dc-436e-fbf1-25ea5e155bc6"
   },
   "outputs": [
    {
     "data": {
      "text/html": [
       "<div>\n",
       "<style scoped>\n",
       "    .dataframe tbody tr th:only-of-type {\n",
       "        vertical-align: middle;\n",
       "    }\n",
       "\n",
       "    .dataframe tbody tr th {\n",
       "        vertical-align: top;\n",
       "    }\n",
       "\n",
       "    .dataframe thead th {\n",
       "        text-align: right;\n",
       "    }\n",
       "</style>\n",
       "<table border=\"1\" class=\"dataframe\">\n",
       "  <thead>\n",
       "    <tr style=\"text-align: right;\">\n",
       "      <th></th>\n",
       "      <th>id</th>\n",
       "      <th>title</th>\n",
       "      <th>author</th>\n",
       "      <th>text</th>\n",
       "      <th>label</th>\n",
       "    </tr>\n",
       "  </thead>\n",
       "  <tbody>\n",
       "    <tr>\n",
       "      <th>0</th>\n",
       "      <td>0</td>\n",
       "      <td>House Dem Aide: We Didn’t Even See Comey’s Let...</td>\n",
       "      <td>Darrell Lucus</td>\n",
       "      <td>House Dem Aide: We Didn’t Even See Comey’s Let...</td>\n",
       "      <td>1</td>\n",
       "    </tr>\n",
       "    <tr>\n",
       "      <th>1</th>\n",
       "      <td>1</td>\n",
       "      <td>FLYNN: Hillary Clinton, Big Woman on Campus - ...</td>\n",
       "      <td>Daniel J. Flynn</td>\n",
       "      <td>Ever get the feeling your life circles the rou...</td>\n",
       "      <td>0</td>\n",
       "    </tr>\n",
       "    <tr>\n",
       "      <th>2</th>\n",
       "      <td>2</td>\n",
       "      <td>Why the Truth Might Get You Fired</td>\n",
       "      <td>Consortiumnews.com</td>\n",
       "      <td>Why the Truth Might Get You Fired October 29, ...</td>\n",
       "      <td>1</td>\n",
       "    </tr>\n",
       "    <tr>\n",
       "      <th>3</th>\n",
       "      <td>3</td>\n",
       "      <td>15 Civilians Killed In Single US Airstrike Hav...</td>\n",
       "      <td>Jessica Purkiss</td>\n",
       "      <td>Videos 15 Civilians Killed In Single US Airstr...</td>\n",
       "      <td>1</td>\n",
       "    </tr>\n",
       "    <tr>\n",
       "      <th>4</th>\n",
       "      <td>4</td>\n",
       "      <td>Iranian woman jailed for fictional unpublished...</td>\n",
       "      <td>Howard Portnoy</td>\n",
       "      <td>Print \\nAn Iranian woman has been sentenced to...</td>\n",
       "      <td>1</td>\n",
       "    </tr>\n",
       "  </tbody>\n",
       "</table>\n",
       "</div>"
      ],
      "text/plain": [
       "   id                                              title              author  \\\n",
       "0   0  House Dem Aide: We Didn’t Even See Comey’s Let...       Darrell Lucus   \n",
       "1   1  FLYNN: Hillary Clinton, Big Woman on Campus - ...     Daniel J. Flynn   \n",
       "2   2                  Why the Truth Might Get You Fired  Consortiumnews.com   \n",
       "3   3  15 Civilians Killed In Single US Airstrike Hav...     Jessica Purkiss   \n",
       "4   4  Iranian woman jailed for fictional unpublished...      Howard Portnoy   \n",
       "\n",
       "                                                text  label  \n",
       "0  House Dem Aide: We Didn’t Even See Comey’s Let...      1  \n",
       "1  Ever get the feeling your life circles the rou...      0  \n",
       "2  Why the Truth Might Get You Fired October 29, ...      1  \n",
       "3  Videos 15 Civilians Killed In Single US Airstr...      1  \n",
       "4  Print \\nAn Iranian woman has been sentenced to...      1  "
      ]
     },
     "execution_count": 2,
     "metadata": {},
     "output_type": "execute_result"
    }
   ],
   "source": [
    "df=pd.read_csv('data/train.csv')\n",
    "df.head()"
   ]
  },
  {
   "cell_type": "code",
   "execution_count": 3,
   "metadata": {
    "colab": {},
    "colab_type": "code",
    "id": "BejXmcHVJKUo"
   },
   "outputs": [],
   "source": [
    "df.dropna(inplace=True)"
   ]
  },
  {
   "cell_type": "code",
   "execution_count": 4,
   "metadata": {
    "colab": {},
    "colab_type": "code",
    "id": "sGieLBFqJR00"
   },
   "outputs": [],
   "source": [
    "x=df.drop('label',axis=1)\n",
    "y=df['label']"
   ]
  },
  {
   "cell_type": "code",
   "execution_count": 5,
   "metadata": {
    "colab": {
     "base_uri": "https://localhost:8080/",
     "height": 34
    },
    "colab_type": "code",
    "id": "BLuFYQDiJbTc",
    "outputId": "75bad7ac-86ae-4591-c035-c61e4bd4c8a3"
   },
   "outputs": [
    {
     "data": {
      "text/plain": [
       "(18285, 4)"
      ]
     },
     "execution_count": 5,
     "metadata": {},
     "output_type": "execute_result"
    }
   ],
   "source": [
    "x.shape"
   ]
  },
  {
   "cell_type": "code",
   "execution_count": 6,
   "metadata": {
    "colab": {
     "base_uri": "https://localhost:8080/",
     "height": 34
    },
    "colab_type": "code",
    "id": "o5JLMqqnJczY",
    "outputId": "a5ff06ce-034d-4f87-b2c4-b57f43b41e45"
   },
   "outputs": [
    {
     "data": {
      "text/plain": [
       "(18285,)"
      ]
     },
     "execution_count": 6,
     "metadata": {},
     "output_type": "execute_result"
    }
   ],
   "source": [
    "y.shape"
   ]
  },
  {
   "cell_type": "code",
   "execution_count": 7,
   "metadata": {
    "colab": {},
    "colab_type": "code",
    "id": "Cq-3aNsXKQ8B"
   },
   "outputs": [],
   "source": [
    "vocab_size=10000"
   ]
  },
  {
   "cell_type": "code",
   "execution_count": 8,
   "metadata": {
    "colab": {},
    "colab_type": "code",
    "id": "83tbuz-RKT4z"
   },
   "outputs": [],
   "source": [
    "messages=x.copy()"
   ]
  },
  {
   "cell_type": "code",
   "execution_count": 9,
   "metadata": {
    "colab": {
     "base_uri": "https://localhost:8080/",
     "height": 120
    },
    "colab_type": "code",
    "id": "4ZfYGh2NKYVM",
    "outputId": "03393d29-d1df-4d61-81c5-2cfe4d1803ef"
   },
   "outputs": [
    {
     "data": {
      "text/plain": [
       "'Ever get the feeling your life circles the roundabout rather than heads in a straight line toward the intended destination? [Hillary Clinton remains the big woman on campus in leafy, liberal Wellesley, Massachusetts. Everywhere else votes her most likely to don her inauguration dress for the remainder of her days the way Miss Havisham forever wore that wedding dress.  Speaking of Great Expectations, Hillary Rodham overflowed with them 48 years ago when she first addressed a Wellesley graduating class. The president of the college informed those gathered in 1969 that the students needed “no debate so far as I could ascertain as to who their spokesman was to be” (kind of the like the Democratic primaries in 2016 minus the   terms unknown then even at a Seven Sisters school). “I am very glad that Miss Adams made it clear that what I am speaking for today is all of us —  the 400 of us,” Miss Rodham told her classmates. After appointing herself Edger Bergen to the Charlie McCarthys and Mortimer Snerds in attendance, the    bespectacled in granny glasses (awarding her matronly wisdom —  or at least John Lennon wisdom) took issue with the previous speaker. Despite becoming the first   to win election to a seat in the U. S. Senate since Reconstruction, Edward Brooke came in for criticism for calling for “empathy” for the goals of protestors as he criticized tactics. Though Clinton in her senior thesis on Saul Alinsky lamented “Black Power demagogues” and “elitist arrogance and repressive intolerance” within the New Left, similar words coming out of a Republican necessitated a brief rebuttal. “Trust,” Rodham ironically observed in 1969, “this is one word that when I asked the class at our rehearsal what it was they wanted me to say for them, everyone came up to me and said ‘Talk about trust, talk about the lack of trust both for us and the way we feel about others. Talk about the trust bust.’ What can you say about it? What can you say about a feeling that permeates a generation and that perhaps is not even understood by those who are distrusted?” The “trust bust” certainly busted Clinton’s 2016 plans. She certainly did not even understand that people distrusted her. After Whitewater, Travelgate, the vast   conspiracy, Benghazi, and the missing emails, Clinton found herself the distrusted voice on Friday. There was a load of compromising on the road to the broadening of her political horizons. And distrust from the American people —  Trump edged her 48 percent to 38 percent on the question immediately prior to November’s election —  stood as a major reason for the closing of those horizons. Clinton described her vanquisher and his supporters as embracing a “lie,” a “con,” “alternative facts,” and “a   assault on truth and reason. ” She failed to explain why the American people chose his lies over her truth. “As the history majors among you here today know all too well, when people in power invent their own facts and attack those who question them, it can mark the beginning of the end of a free society,” she offered. “That is not hyperbole. ” Like so many people to emerge from the 1960s, Hillary Clinton embarked upon a long, strange trip. From high school Goldwater Girl and Wellesley College Republican president to Democratic politician, Clinton drank in the times and the place that gave her a degree. More significantly, she went from idealist to cynic, as a comparison of her two Wellesley commencement addresses show. Way back when, she lamented that “for too long our leaders have viewed politics as the art of the possible, and the challenge now is to practice politics as the art of making what appears to be impossible possible. ” Now, as the big woman on campus but the odd woman out of the White House, she wonders how her current station is even possible. “Why aren’t I 50 points ahead?” she asked in September. In May she asks why she isn’t president. The woman famously dubbed a “congenital liar” by Bill Safire concludes that lies did her in —  theirs, mind you, not hers. Getting stood up on Election Day, like finding yourself the jilted bride on your wedding day, inspires dangerous delusions.'"
      ]
     },
     "execution_count": 9,
     "metadata": {},
     "output_type": "execute_result"
    }
   ],
   "source": [
    "messages['text'][1]"
   ]
  },
  {
   "cell_type": "code",
   "execution_count": 10,
   "metadata": {
    "colab": {},
    "colab_type": "code",
    "id": "LUGll-SSKkbD"
   },
   "outputs": [],
   "source": [
    "messages.reset_index(inplace=True)"
   ]
  },
  {
   "cell_type": "code",
   "execution_count": 11,
   "metadata": {
    "colab": {
     "base_uri": "https://localhost:8080/",
     "height": 102
    },
    "colab_type": "code",
    "id": "j03laEwILJZy",
    "outputId": "d5e3c29e-6c5e-4bb8-df00-925316853fb7"
   },
   "outputs": [
    {
     "name": "stderr",
     "output_type": "stream",
     "text": [
      "[nltk_data] Downloading package stopwords to\n",
      "[nltk_data]     /Users/anirudh/nltk_data...\n",
      "[nltk_data]   Package stopwords is already up-to-date!\n",
      "[nltk_data] Downloading package wordnet to /Users/anirudh/nltk_data...\n",
      "[nltk_data]   Package wordnet is already up-to-date!\n",
      "[nltk_data] Downloading package omw-1.4 to /Users/anirudh/nltk_data...\n",
      "[nltk_data]   Package omw-1.4 is already up-to-date!\n"
     ]
    },
    {
     "data": {
      "text/plain": [
       "True"
      ]
     },
     "execution_count": 11,
     "metadata": {},
     "output_type": "execute_result"
    }
   ],
   "source": [
    "nltk.download('stopwords')\n",
    "nltk.download('wordnet')\n",
    "nltk.download('omw-1.4')"
   ]
  },
  {
   "cell_type": "markdown",
   "metadata": {
    "colab_type": "text",
    "id": "H9srRLjMWuyL"
   },
   "source": [
    "## Data Preprocessing"
   ]
  },
  {
   "cell_type": "code",
   "execution_count": 12,
   "metadata": {},
   "outputs": [],
   "source": [
    "def preprocess(msg):\n",
    "    rv=re.sub('[^a-zA-Z]',' ',msg)\n",
    "    rv=rv.lower()\n",
    "    rv=rv.split()\n",
    "    rv=[lm.lemmatize(word) for word in rv if not word in stopwords.words('english')]\n",
    "    rv=' '.join(rv)\n",
    "    return rv"
   ]
  },
  {
   "cell_type": "code",
   "execution_count": 13,
   "metadata": {
    "colab": {},
    "colab_type": "code",
    "id": "dEaKlUZ1LNEF"
   },
   "outputs": [],
   "source": [
    "lm=WordNetLemmatizer()\n",
    "corpus=[]\n",
    "\n",
    "with mp.Pool(30) as pool:\n",
    "    corpus=pool.map(preprocess,messages['text'])"
   ]
  },
  {
   "cell_type": "code",
   "execution_count": 14,
   "metadata": {
    "colab": {
     "base_uri": "https://localhost:8080/",
     "height": 120
    },
    "colab_type": "code",
    "id": "-9eQoJ1nMaCX",
    "outputId": "c3979e01-26b9-4489-a4f3-32d99e2d1dae"
   },
   "outputs": [
    {
     "data": {
      "text/plain": [
       "'house dem aide even see comey letter jason chaffetz tweeted darrell lucus october subscribe jason chaffetz stump american fork utah image courtesy michael jolley available creative common license apology keith olbermann doubt worst person world week fbi director james comey according house democratic aide look like also know second worst person well turn comey sent infamous letter announcing fbi looking email may related hillary clinton email server ranking democrat relevant committee hear comey found via tweet one republican committee chairman know comey notified republican chairman democratic ranking member house intelligence judiciary oversight committee agency reviewing email recently discovered order see contained classified information long letter went oversight committee chairman jason chaffetz set political world ablaze tweet fbi dir informed fbi learned existence email appear pertinent investigation case reopened jason chaffetz jasoninthehouse october course know case comey actually saying reviewing email light unrelated case know anthony weiner sexting teenager apparently little thing fact matter chaffetz utah republican already vowed initiate raft investigation hillary win least two year worth possibly entire term worth apparently chaffetz thought fbi already work resulting tweet briefly roiled nation cooler head realized dud according senior house democratic aide misreading letter may least chaffetz sin aide told shareblue bos democrat even know comey letter time found checked twitter democratic ranking member relevant committee receive comey letter republican chairman fact democratic ranking member receive chairman oversight government reform committee jason chaffetz tweeted made public let see got right fbi director tell chaffetz gop committee chairman major development potentially politically explosive investigation neither chaffetz colleague courtesy let democratic counterpart know instead according aide made find twitter already talk daily ko comey provided advance notice letter chaffetz republican giving time turn spin machine may make good theater nothing far even suggests case nothing far suggests comey anything grossly incompetent tone deaf suggest however chaffetz acting way make dan burton darrell issa look like model responsibility bipartisanship even decency notify ranking member elijah cummings something explosive trample basic standard fairness know granted likely chaffetz answer sits ridiculously republican district anchored provo orem cook partisan voting index r gave mitt romney punishing percent vote moreover republican house leadership given full support chaffetz planned fishing expedition mean turn hot light textbook example house become republican control also second worst person world darrell lucus darrell something graduate university north carolina considers journalist old school attempt turn member religious right college succeeded turning religious right worst nightmare charismatic christian unapologetic liberal desire stand scared silence increased survived abusive three year marriage may know daily ko christian dem nc follow twitter darrelllucus connect facebook click buy darrell mello yello connect'"
      ]
     },
     "execution_count": 14,
     "metadata": {},
     "output_type": "execute_result"
    }
   ],
   "source": [
    "corpus[0]"
   ]
  },
  {
   "cell_type": "code",
   "execution_count": 15,
   "metadata": {
    "colab": {
     "base_uri": "https://localhost:8080/",
     "height": 1000
    },
    "colab_type": "code",
    "id": "dMDoaW0YSBi0",
    "outputId": "127134fe-dfac-42dd-c86c-6dd87691ff87"
   },
   "outputs": [
    {
     "data": {
      "text/plain": [
       "[1072,\n",
       " 7586,\n",
       " 8104,\n",
       " 6533,\n",
       " 40,\n",
       " 6952,\n",
       " 1515,\n",
       " 6685,\n",
       " 8415,\n",
       " 7369,\n",
       " 2045,\n",
       " 1684,\n",
       " 8727,\n",
       " 7347,\n",
       " 6685,\n",
       " 8415,\n",
       " 5581,\n",
       " 1387,\n",
       " 898,\n",
       " 2340,\n",
       " 183,\n",
       " 4569,\n",
       " 4913,\n",
       " 6652,\n",
       " 4598,\n",
       " 4456,\n",
       " 8116,\n",
       " 7296,\n",
       " 2336,\n",
       " 6623,\n",
       " 4290,\n",
       " 6832,\n",
       " 9134,\n",
       " 1366,\n",
       " 2211,\n",
       " 9717,\n",
       " 885,\n",
       " 9929,\n",
       " 5980,\n",
       " 6952,\n",
       " 4180,\n",
       " 1072,\n",
       " 7603,\n",
       " 8104,\n",
       " 851,\n",
       " 7735,\n",
       " 9385,\n",
       " 4993,\n",
       " 5870,\n",
       " 9134,\n",
       " 1366,\n",
       " 4163,\n",
       " 3139,\n",
       " 6952,\n",
       " 2811,\n",
       " 774,\n",
       " 1515,\n",
       " 5994,\n",
       " 885,\n",
       " 183,\n",
       " 4079,\n",
       " 4910,\n",
       " 80,\n",
       " 4597,\n",
       " 8082,\n",
       " 4079,\n",
       " 7327,\n",
       " 2932,\n",
       " 6819,\n",
       " 7630,\n",
       " 125,\n",
       " 6403,\n",
       " 6952,\n",
       " 6384,\n",
       " 2386,\n",
       " 2329,\n",
       " 3197,\n",
       " 570,\n",
       " 125,\n",
       " 3406,\n",
       " 4993,\n",
       " 6952,\n",
       " 3540,\n",
       " 570,\n",
       " 3406,\n",
       " 7603,\n",
       " 2932,\n",
       " 3156,\n",
       " 1072,\n",
       " 5089,\n",
       " 1537,\n",
       " 5142,\n",
       " 125,\n",
       " 7147,\n",
       " 7827,\n",
       " 4079,\n",
       " 1210,\n",
       " 4344,\n",
       " 9488,\n",
       " 40,\n",
       " 2512,\n",
       " 2352,\n",
       " 5595,\n",
       " 1375,\n",
       " 1515,\n",
       " 2566,\n",
       " 5142,\n",
       " 125,\n",
       " 3406,\n",
       " 6685,\n",
       " 8415,\n",
       " 6243,\n",
       " 1667,\n",
       " 2211,\n",
       " 4139,\n",
       " 2329,\n",
       " 885,\n",
       " 237,\n",
       " 7265,\n",
       " 885,\n",
       " 1992,\n",
       " 8285,\n",
       " 4079,\n",
       " 2862,\n",
       " 9881,\n",
       " 5428,\n",
       " 4007,\n",
       " 3867,\n",
       " 6685,\n",
       " 8415,\n",
       " 985,\n",
       " 8727,\n",
       " 2239,\n",
       " 4993,\n",
       " 4007,\n",
       " 6952,\n",
       " 5583,\n",
       " 4985,\n",
       " 7827,\n",
       " 4079,\n",
       " 7513,\n",
       " 3472,\n",
       " 4007,\n",
       " 4993,\n",
       " 9211,\n",
       " 8256,\n",
       " 2198,\n",
       " 8240,\n",
       " 6742,\n",
       " 1433,\n",
       " 358,\n",
       " 4240,\n",
       " 5099,\n",
       " 8415,\n",
       " 2340,\n",
       " 570,\n",
       " 8274,\n",
       " 6634,\n",
       " 328,\n",
       " 268,\n",
       " 5428,\n",
       " 4597,\n",
       " 6697,\n",
       " 3915,\n",
       " 6757,\n",
       " 9069,\n",
       " 3644,\n",
       " 2720,\n",
       " 5868,\n",
       " 4681,\n",
       " 3644,\n",
       " 6742,\n",
       " 8415,\n",
       " 815,\n",
       " 885,\n",
       " 8274,\n",
       " 8926,\n",
       " 9222,\n",
       " 2329,\n",
       " 5936,\n",
       " 3671,\n",
       " 3841,\n",
       " 4328,\n",
       " 992,\n",
       " 1742,\n",
       " 7645,\n",
       " 4180,\n",
       " 3629,\n",
       " 1072,\n",
       " 7603,\n",
       " 8104,\n",
       " 1961,\n",
       " 1515,\n",
       " 4910,\n",
       " 3915,\n",
       " 8415,\n",
       " 8115,\n",
       " 8104,\n",
       " 4395,\n",
       " 6030,\n",
       " 950,\n",
       " 6819,\n",
       " 6533,\n",
       " 4993,\n",
       " 6952,\n",
       " 1515,\n",
       " 8231,\n",
       " 6384,\n",
       " 4954,\n",
       " 8684,\n",
       " 7603,\n",
       " 2932,\n",
       " 3156,\n",
       " 7630,\n",
       " 125,\n",
       " 6130,\n",
       " 6952,\n",
       " 1515,\n",
       " 570,\n",
       " 3406,\n",
       " 4240,\n",
       " 7603,\n",
       " 2932,\n",
       " 3156,\n",
       " 6130,\n",
       " 3406,\n",
       " 5142,\n",
       " 3417,\n",
       " 3451,\n",
       " 125,\n",
       " 6685,\n",
       " 8415,\n",
       " 7369,\n",
       " 1572,\n",
       " 4376,\n",
       " 9198,\n",
       " 40,\n",
       " 1481,\n",
       " 4526,\n",
       " 885,\n",
       " 9929,\n",
       " 7456,\n",
       " 8415,\n",
       " 4797,\n",
       " 125,\n",
       " 3406,\n",
       " 6480,\n",
       " 839,\n",
       " 7499,\n",
       " 5309,\n",
       " 3375,\n",
       " 5428,\n",
       " 8175,\n",
       " 8415,\n",
       " 9199,\n",
       " 4569,\n",
       " 9198,\n",
       " 7603,\n",
       " 3683,\n",
       " 4993,\n",
       " 642,\n",
       " 4180,\n",
       " 8104,\n",
       " 1572,\n",
       " 5779,\n",
       " 8684,\n",
       " 8274,\n",
       " 8011,\n",
       " 3217,\n",
       " 4659,\n",
       " 6952,\n",
       " 1512,\n",
       " 6672,\n",
       " 2765,\n",
       " 1515,\n",
       " 8415,\n",
       " 570,\n",
       " 6097,\n",
       " 8231,\n",
       " 3139,\n",
       " 9450,\n",
       " 5146,\n",
       " 4910,\n",
       " 1643,\n",
       " 6202,\n",
       " 8324,\n",
       " 266,\n",
       " 6697,\n",
       " 6533,\n",
       " 6797,\n",
       " 4007,\n",
       " 266,\n",
       " 6697,\n",
       " 6797,\n",
       " 6952,\n",
       " 2719,\n",
       " 7698,\n",
       " 9089,\n",
       " 390,\n",
       " 6173,\n",
       " 8655,\n",
       " 4271,\n",
       " 8415,\n",
       " 4863,\n",
       " 2655,\n",
       " 1643,\n",
       " 4663,\n",
       " 183,\n",
       " 2045,\n",
       " 7943,\n",
       " 851,\n",
       " 7735,\n",
       " 8976,\n",
       " 3476,\n",
       " 5623,\n",
       " 6533,\n",
       " 3808,\n",
       " 9403,\n",
       " 2932,\n",
       " 3156,\n",
       " 2825,\n",
       " 5375,\n",
       " 3771,\n",
       " 3375,\n",
       " 8781,\n",
       " 5437,\n",
       " 4718,\n",
       " 3701,\n",
       " 4993,\n",
       " 952,\n",
       " 7697,\n",
       " 8415,\n",
       " 8575,\n",
       " 5537,\n",
       " 7797,\n",
       " 570,\n",
       " 6799,\n",
       " 4356,\n",
       " 5388,\n",
       " 5450,\n",
       " 5513,\n",
       " 5572,\n",
       " 2576,\n",
       " 2872,\n",
       " 720,\n",
       " 175,\n",
       " 7169,\n",
       " 6495,\n",
       " 8591,\n",
       " 2286,\n",
       " 7025,\n",
       " 5356,\n",
       " 570,\n",
       " 1072,\n",
       " 3659,\n",
       " 5897,\n",
       " 9868,\n",
       " 208,\n",
       " 8415,\n",
       " 7749,\n",
       " 6752,\n",
       " 314,\n",
       " 6338,\n",
       " 3139,\n",
       " 6869,\n",
       " 7513,\n",
       " 918,\n",
       " 7492,\n",
       " 1072,\n",
       " 2763,\n",
       " 570,\n",
       " 6667,\n",
       " 9385,\n",
       " 5870,\n",
       " 9134,\n",
       " 1366,\n",
       " 2211,\n",
       " 2045,\n",
       " 1684,\n",
       " 2045,\n",
       " 3771,\n",
       " 586,\n",
       " 3857,\n",
       " 7278,\n",
       " 1606,\n",
       " 2296,\n",
       " 1126,\n",
       " 7271,\n",
       " 9766,\n",
       " 3990,\n",
       " 3139,\n",
       " 3156,\n",
       " 155,\n",
       " 4526,\n",
       " 3715,\n",
       " 8801,\n",
       " 4655,\n",
       " 155,\n",
       " 4526,\n",
       " 9134,\n",
       " 264,\n",
       " 8022,\n",
       " 4567,\n",
       " 4448,\n",
       " 7622,\n",
       " 8099,\n",
       " 141,\n",
       " 4209,\n",
       " 5745,\n",
       " 1829,\n",
       " 9040,\n",
       " 5796,\n",
       " 1325,\n",
       " 9069,\n",
       " 9143,\n",
       " 4910,\n",
       " 4993,\n",
       " 3217,\n",
       " 4659,\n",
       " 4567,\n",
       " 7586,\n",
       " 6538,\n",
       " 5394,\n",
       " 8684,\n",
       " 9183,\n",
       " 7921,\n",
       " 2836,\n",
       " 2557,\n",
       " 6671,\n",
       " 2045,\n",
       " 6665,\n",
       " 9937,\n",
       " 7921]"
      ]
     },
     "execution_count": 15,
     "metadata": {},
     "output_type": "execute_result"
    }
   ],
   "source": [
    "one_hot_rp=[one_hot(words,vocab_size)for words in corpus]\n",
    "one_hot_rp[0]"
   ]
  },
  {
   "cell_type": "markdown",
   "metadata": {
    "colab_type": "text",
    "id": "REJoPWSAWUIN"
   },
   "source": [
    "## Embedding Representation"
   ]
  },
  {
   "cell_type": "code",
   "execution_count": 16,
   "metadata": {
    "colab": {
     "base_uri": "https://localhost:8080/",
     "height": 34
    },
    "colab_type": "code",
    "id": "BvaaoRYkSb5U",
    "outputId": "f45f1444-6e09-46a9-d9cc-763f167e07cd"
   },
   "outputs": [
    {
     "data": {
      "text/plain": [
       "524"
      ]
     },
     "execution_count": 16,
     "metadata": {},
     "output_type": "execute_result"
    }
   ],
   "source": [
    "s_len=len(max(corpus))\n",
    "s_len"
   ]
  },
  {
   "cell_type": "code",
   "execution_count": 17,
   "metadata": {
    "colab": {
     "base_uri": "https://localhost:8080/",
     "height": 833
    },
    "colab_type": "code",
    "id": "R97CXuFtPmrX",
    "outputId": "71d8d185-bb5d-46b0-928b-6f9138ab7e97"
   },
   "outputs": [
    {
     "data": {
      "text/plain": [
       "array([   0,    0,    0,    0,    0,    0,    0,    0,    0,    0,    0,\n",
       "          0,    0,    0,    0,    0,    0,    0,    0,    0,    0,    0,\n",
       "          0,    0,    0,    0,    0,    0,    0,    0,    0,    0,    0,\n",
       "          0,    0,    0,    0,    0,    0,    0,    0,    0,    0,    0,\n",
       "          0,    0,    0,    0,    0,    0,    0,    0,    0,    0,    0,\n",
       "          0,    0,    0,    0,    0,    0,    0,    0,    0,    0,    0,\n",
       "          0,    0,    0,    0,    0,    0,    0,    0,    0,    0,    0,\n",
       "          0,    0,    0,    0,    0,    0,    0,    0,    0,    0,    0,\n",
       "          0,    0,    0, 1072, 7586, 8104, 6533,   40, 6952, 1515, 6685,\n",
       "       8415, 7369, 2045, 1684, 8727, 7347, 6685, 8415, 5581, 1387,  898,\n",
       "       2340,  183, 4569, 4913, 6652, 4598, 4456, 8116, 7296, 2336, 6623,\n",
       "       4290, 6832, 9134, 1366, 2211, 9717,  885, 9929, 5980, 6952, 4180,\n",
       "       1072, 7603, 8104,  851, 7735, 9385, 4993, 5870, 9134, 1366, 4163,\n",
       "       3139, 6952, 2811,  774, 1515, 5994,  885,  183, 4079, 4910,   80,\n",
       "       4597, 8082, 4079, 7327, 2932, 6819, 7630,  125, 6403, 6952, 6384,\n",
       "       2386, 2329, 3197,  570,  125, 3406, 4993, 6952, 3540,  570, 3406,\n",
       "       7603, 2932, 3156, 1072, 5089, 1537, 5142,  125, 7147, 7827, 4079,\n",
       "       1210, 4344, 9488,   40, 2512, 2352, 5595, 1375, 1515, 2566, 5142,\n",
       "        125, 3406, 6685, 8415, 6243, 1667, 2211, 4139, 2329,  885,  237,\n",
       "       7265,  885, 1992, 8285, 4079, 2862, 9881, 5428, 4007, 3867, 6685,\n",
       "       8415,  985, 8727, 2239, 4993, 4007, 6952, 5583, 4985, 7827, 4079,\n",
       "       7513, 3472, 4007, 4993, 9211, 8256, 2198, 8240, 6742, 1433,  358,\n",
       "       4240, 5099, 8415, 2340,  570, 8274, 6634,  328,  268, 5428, 4597,\n",
       "       6697, 3915, 6757, 9069, 3644, 2720, 5868, 4681, 3644, 6742, 8415,\n",
       "        815,  885, 8274, 8926, 9222, 2329, 5936, 3671, 3841, 4328,  992,\n",
       "       1742, 7645, 4180, 3629, 1072, 7603, 8104, 1961, 1515, 4910, 3915,\n",
       "       8415, 8115, 8104, 4395, 6030,  950, 6819, 6533, 4993, 6952, 1515,\n",
       "       8231, 6384, 4954, 8684, 7603, 2932, 3156, 7630,  125, 6130, 6952,\n",
       "       1515,  570, 3406, 4240, 7603, 2932, 3156, 6130, 3406, 5142, 3417,\n",
       "       3451,  125, 6685, 8415, 7369, 1572, 4376, 9198,   40, 1481, 4526,\n",
       "        885, 9929, 7456, 8415, 4797,  125, 3406, 6480,  839, 7499, 5309,\n",
       "       3375, 5428, 8175, 8415, 9199, 4569, 9198, 7603, 3683, 4993,  642,\n",
       "       4180, 8104, 1572, 5779, 8684, 8274, 8011, 3217, 4659, 6952, 1512,\n",
       "       6672, 2765, 1515, 8415,  570, 6097, 8231, 3139, 9450, 5146, 4910,\n",
       "       1643, 6202, 8324,  266, 6697, 6533, 6797, 4007,  266, 6697, 6797,\n",
       "       6952, 2719, 7698, 9089,  390, 6173, 8655, 4271, 8415, 4863, 2655,\n",
       "       1643, 4663,  183, 2045, 7943,  851, 7735, 8976, 3476, 5623, 6533,\n",
       "       3808, 9403, 2932, 3156, 2825, 5375, 3771, 3375, 8781, 5437, 4718,\n",
       "       3701, 4993,  952, 7697, 8415, 8575, 5537, 7797,  570, 6799, 4356,\n",
       "       5388, 5450, 5513, 5572, 2576, 2872,  720,  175, 7169, 6495, 8591,\n",
       "       2286, 7025, 5356,  570, 1072, 3659, 5897, 9868,  208, 8415, 7749,\n",
       "       6752,  314, 6338, 3139, 6869, 7513,  918, 7492, 1072, 2763,  570,\n",
       "       6667, 9385, 5870, 9134, 1366, 2211, 2045, 1684, 2045, 3771,  586,\n",
       "       3857, 7278, 1606, 2296, 1126, 7271, 9766, 3990, 3139, 3156,  155,\n",
       "       4526, 3715, 8801, 4655,  155, 4526, 9134,  264, 8022, 4567, 4448,\n",
       "       7622, 8099,  141, 4209, 5745, 1829, 9040, 5796, 1325, 9069, 9143,\n",
       "       4910, 4993, 3217, 4659, 4567, 7586, 6538, 5394, 8684, 9183, 7921,\n",
       "       2836, 2557, 6671, 2045, 6665, 9937, 7921], dtype=int32)"
      ]
     },
     "execution_count": 17,
     "metadata": {},
     "output_type": "execute_result"
    }
   ],
   "source": [
    "embedding_docs=pad_sequences(one_hot_rp,padding='pre',maxlen=s_len)\n",
    "embedding_docs[0]"
   ]
  },
  {
   "cell_type": "markdown",
   "metadata": {
    "colab_type": "text",
    "id": "_qLVO2ACWbGo"
   },
   "source": [
    "## Creating Model"
   ]
  },
  {
   "cell_type": "code",
   "execution_count": 18,
   "metadata": {
    "colab": {
     "base_uri": "https://localhost:8080/",
     "height": 323
    },
    "colab_type": "code",
    "id": "wUzVpKtMQ2xA",
    "outputId": "ad3e23aa-3213-41dd-91f9-57b4cfb75b5b"
   },
   "outputs": [
    {
     "name": "stdout",
     "output_type": "stream",
     "text": [
      "Metal device set to: Apple M1\n"
     ]
    },
    {
     "name": "stderr",
     "output_type": "stream",
     "text": [
      "2022-08-23 16:09:41.532099: I tensorflow/core/common_runtime/pluggable_device/pluggable_device_factory.cc:305] Could not identify NUMA node of platform GPU ID 0, defaulting to 0. Your kernel may not have been built with NUMA support.\n",
      "2022-08-23 16:09:41.533914: I tensorflow/core/common_runtime/pluggable_device/pluggable_device_factory.cc:271] Created TensorFlow device (/job:localhost/replica:0/task:0/device:GPU:0 with 0 MB memory) -> physical PluggableDevice (device: 0, name: METAL, pci bus id: <undefined>)\n"
     ]
    },
    {
     "name": "stdout",
     "output_type": "stream",
     "text": [
      "Model: \"sequential\"\n",
      "_________________________________________________________________\n",
      " Layer (type)                Output Shape              Param #   \n",
      "=================================================================\n",
      " embedding (Embedding)       (None, 524, 40)           400000    \n",
      "                                                                 \n",
      " dropout (Dropout)           (None, 524, 40)           0         \n",
      "                                                                 \n",
      " lstm (LSTM)                 (None, 100)               56400     \n",
      "                                                                 \n",
      " dropout_1 (Dropout)         (None, 100)               0         \n",
      "                                                                 \n",
      " dense (Dense)               (None, 1)                 101       \n",
      "                                                                 \n",
      "=================================================================\n",
      "Total params: 456,501\n",
      "Trainable params: 456,501\n",
      "Non-trainable params: 0\n",
      "_________________________________________________________________\n"
     ]
    }
   ],
   "source": [
    "emb_vector_features=40\n",
    "model=Sequential()\n",
    "model.add(Embedding(vocab_size,emb_vector_features,input_length=s_len))\n",
    "model.add(Dropout(0.3))\n",
    "model.add(LSTM(100))\n",
    "model.add(Dropout(0.3))\n",
    "model.add(Dense(1,activation='sigmoid'))\n",
    "model.compile(loss='binary_crossentropy',optimizer='adam',metrics=['accuracy'])\n",
    "model.summary()"
   ]
  },
  {
   "cell_type": "code",
   "execution_count": 19,
   "metadata": {
    "colab": {
     "base_uri": "https://localhost:8080/",
     "height": 34
    },
    "colab_type": "code",
    "id": "jlqQ8JaLRyct",
    "outputId": "e7bd5f03-eb4e-491e-b5c1-d121700e45a4"
   },
   "outputs": [
    {
     "data": {
      "text/plain": [
       "(18285, (18285,))"
      ]
     },
     "execution_count": 19,
     "metadata": {},
     "output_type": "execute_result"
    }
   ],
   "source": [
    "len(embedding_docs),y.shape"
   ]
  },
  {
   "cell_type": "code",
   "execution_count": 20,
   "metadata": {
    "colab": {},
    "colab_type": "code",
    "id": "Nx2EqLFKS3mZ"
   },
   "outputs": [],
   "source": [
    "import numpy as np\n",
    "x_final=np.array(embedding_docs)\n",
    "y_final=np.array(y)"
   ]
  },
  {
   "cell_type": "code",
   "execution_count": 21,
   "metadata": {
    "colab": {
     "base_uri": "https://localhost:8080/",
     "height": 34
    },
    "colab_type": "code",
    "id": "RqijgFgnTGfF",
    "outputId": "102e71a1-b3a1-4427-d51b-0955a7b030bf"
   },
   "outputs": [
    {
     "data": {
      "text/plain": [
       "((18285, 524), (18285,))"
      ]
     },
     "execution_count": 21,
     "metadata": {},
     "output_type": "execute_result"
    }
   ],
   "source": [
    "x_final.shape,y_final.shape"
   ]
  },
  {
   "cell_type": "code",
   "execution_count": 22,
   "metadata": {
    "colab": {},
    "colab_type": "code",
    "id": "1NUs7M4DTKh0"
   },
   "outputs": [],
   "source": [
    "from sklearn.model_selection import train_test_split\n",
    "x_train,x_test,y_train,y_test=train_test_split(x_final,y_final,test_size=0.33,random_state=33)"
   ]
  },
  {
   "cell_type": "markdown",
   "metadata": {
    "colab_type": "text",
    "id": "mBB4rbNQWLQP"
   },
   "source": [
    "## Model Training"
   ]
  },
  {
   "cell_type": "code",
   "execution_count": 23,
   "metadata": {
    "colab": {
     "base_uri": "https://localhost:8080/",
     "height": 374
    },
    "colab_type": "code",
    "id": "9ISo_OuRTeGn",
    "outputId": "11d83aa6-e65c-411f-f00a-a6307b692281"
   },
   "outputs": [
    {
     "name": "stdout",
     "output_type": "stream",
     "text": [
      "Epoch 1/10\n"
     ]
    },
    {
     "name": "stderr",
     "output_type": "stream",
     "text": [
      "2022-08-23 16:09:41.981221: W tensorflow/core/platform/profile_utils/cpu_utils.cc:128] Failed to get CPU frequency: 0 Hz\n",
      "2022-08-23 16:09:42.987201: I tensorflow/core/grappler/optimizers/custom_graph_optimizer_registry.cc:113] Plugin optimizer for device_type GPU is enabled.\n",
      "2022-08-23 16:09:43.140944: I tensorflow/core/grappler/optimizers/custom_graph_optimizer_registry.cc:113] Plugin optimizer for device_type GPU is enabled.\n",
      "2022-08-23 16:09:44.035218: I tensorflow/core/grappler/optimizers/custom_graph_optimizer_registry.cc:113] Plugin optimizer for device_type GPU is enabled.\n"
     ]
    },
    {
     "name": "stdout",
     "output_type": "stream",
     "text": [
      "192/192 [==============================] - ETA: 0s - loss: 0.4608 - accuracy: 0.7626"
     ]
    },
    {
     "name": "stderr",
     "output_type": "stream",
     "text": [
      "2022-08-23 16:10:13.315031: I tensorflow/core/grappler/optimizers/custom_graph_optimizer_registry.cc:113] Plugin optimizer for device_type GPU is enabled.\n",
      "2022-08-23 16:10:13.363504: I tensorflow/core/grappler/optimizers/custom_graph_optimizer_registry.cc:113] Plugin optimizer for device_type GPU is enabled.\n"
     ]
    },
    {
     "name": "stdout",
     "output_type": "stream",
     "text": [
      "192/192 [==============================] - 39s 179ms/step - loss: 0.4608 - accuracy: 0.7626 - val_loss: 0.2747 - val_accuracy: 0.8895\n",
      "Epoch 2/10\n",
      "192/192 [==============================] - 30s 155ms/step - loss: 0.1720 - accuracy: 0.9390 - val_loss: 0.2300 - val_accuracy: 0.9051\n",
      "Epoch 3/10\n",
      "192/192 [==============================] - 31s 160ms/step - loss: 0.1156 - accuracy: 0.9632 - val_loss: 0.2320 - val_accuracy: 0.9057\n",
      "Epoch 4/10\n",
      "192/192 [==============================] - 31s 160ms/step - loss: 0.1023 - accuracy: 0.9673 - val_loss: 0.2604 - val_accuracy: 0.9120\n",
      "Epoch 5/10\n",
      "192/192 [==============================] - 31s 159ms/step - loss: 0.0578 - accuracy: 0.9833 - val_loss: 0.2764 - val_accuracy: 0.9153\n",
      "Epoch 6/10\n",
      "192/192 [==============================] - 30s 158ms/step - loss: 0.1179 - accuracy: 0.9572 - val_loss: 0.2685 - val_accuracy: 0.9122\n",
      "Epoch 7/10\n",
      "192/192 [==============================] - 30s 158ms/step - loss: 0.0545 - accuracy: 0.9851 - val_loss: 0.3289 - val_accuracy: 0.9148\n",
      "Epoch 8/10\n",
      "192/192 [==============================] - 30s 158ms/step - loss: 0.0330 - accuracy: 0.9910 - val_loss: 0.3256 - val_accuracy: 0.9069\n",
      "Epoch 9/10\n",
      "192/192 [==============================] - 31s 161ms/step - loss: 0.0219 - accuracy: 0.9948 - val_loss: 0.3673 - val_accuracy: 0.9125\n",
      "Epoch 10/10\n",
      "192/192 [==============================] - 30s 158ms/step - loss: 0.0152 - accuracy: 0.9964 - val_loss: 0.3699 - val_accuracy: 0.9128\n"
     ]
    },
    {
     "data": {
      "text/plain": [
       "<keras.callbacks.History at 0x2c2e7aac0>"
      ]
     },
     "execution_count": 23,
     "metadata": {},
     "output_type": "execute_result"
    }
   ],
   "source": [
    "model.fit(x_train,y_train,validation_data=(x_test,y_test),epochs=10,batch_size=64)"
   ]
  },
  {
   "cell_type": "markdown",
   "metadata": {
    "colab_type": "text",
    "id": "gyoZ7Rv8WFVd"
   },
   "source": [
    "## Evaluation of the Model"
   ]
  },
  {
   "cell_type": "code",
   "execution_count": 24,
   "metadata": {
    "colab": {
     "base_uri": "https://localhost:8080/",
     "height": 34
    },
    "colab_type": "code",
    "id": "zZld62HJTqHX",
    "outputId": "f5bee0d5-02ed-4994-ee6f-153af95f4f55"
   },
   "outputs": [
    {
     "name": "stderr",
     "output_type": "stream",
     "text": [
      "2022-08-23 16:14:54.917163: I tensorflow/core/grappler/optimizers/custom_graph_optimizer_registry.cc:113] Plugin optimizer for device_type GPU is enabled.\n",
      "2022-08-23 16:14:54.974181: I tensorflow/core/grappler/optimizers/custom_graph_optimizer_registry.cc:113] Plugin optimizer for device_type GPU is enabled.\n"
     ]
    },
    {
     "name": "stdout",
     "output_type": "stream",
     "text": [
      "189/189 [==============================] - 13s 64ms/step\n"
     ]
    }
   ],
   "source": [
    "y_pred=model.predict(x_test)"
   ]
  },
  {
   "cell_type": "code",
   "execution_count": 25,
   "metadata": {},
   "outputs": [
    {
     "data": {
      "text/plain": [
       "(array([2310.,  118.,   50.,   42.,   66.,   41.,   44.,   68.,  188.,\n",
       "        3108.]),\n",
       " array([0. , 0.1, 0.2, 0.3, 0.4, 0.5, 0.6, 0.7, 0.8, 0.9, 1. ]),\n",
       " <BarContainer object of 10 artists>)"
      ]
     },
     "execution_count": 25,
     "metadata": {},
     "output_type": "execute_result"
    },
    {
     "data": {
      "image/png": "[encoded data removed]",
      "text/plain": [
       "<Figure size 640x480 with 1 Axes>"
      ]
     },
     "metadata": {},
     "output_type": "display_data"
    }
   ],
   "source": [
    "tmp=y_pred.flatten()\n",
    "plt.hist(tmp, bins = [0, 0.1, 0.2, 0.3, 0.4,0.5, 0.6, 0.7, 0.8, 0.9,1])"
   ]
  },
  {
   "cell_type": "code",
   "execution_count": 26,
   "metadata": {},
   "outputs": [
    {
     "name": "stdout",
     "output_type": "stream",
     "text": [
      "Best Accuracy:  85.71665285832643\n",
      "Best Threshold:  0.9500000000000001\n"
     ]
    }
   ],
   "source": [
    "#finding best threshold\n",
    "max_acc=-1\n",
    "best_thresh=0\n",
    "for threshold in np.arange(0,1,0.05):\n",
    "    tmp=y_pred\n",
    "    tmp=np.where(tmp > threshold, 1,0)\n",
    "    acc=accuracy_score(y_test,tmp)*100\n",
    "    if acc>max_acc:\n",
    "        max_acc=acc\n",
    "        best_thresh=threshold\n",
    "print(\"Best Accuracy: \",max_acc)\n",
    "print(\"Best Threshold: \",best_thresh)"
   ]
  },
  {
   "cell_type": "code",
   "execution_count": 27,
   "metadata": {
    "colab": {
     "base_uri": "https://localhost:8080/",
     "height": 51
    },
    "colab_type": "code",
    "id": "vVBUG9TZUHZb",
    "outputId": "5a09e91a-abd4-4937-bbbd-52ef7ae3e99f"
   },
   "outputs": [
    {
     "data": {
      "text/plain": [
       "array([[2870,  592],\n",
       "       [ 270, 2303]])"
      ]
     },
     "execution_count": 27,
     "metadata": {},
     "output_type": "execute_result"
    }
   ],
   "source": [
    "y_pred=np.where(y_pred > best_thresh, 1,0)\n",
    "confusion_matrix(y_test,y_pred)"
   ]
  },
  {
   "cell_type": "code",
   "execution_count": 28,
   "metadata": {
    "colab": {
     "base_uri": "https://localhost:8080/",
     "height": 34
    },
    "colab_type": "code",
    "id": "YtBTfrJUUddW",
    "outputId": "9af767f5-c066-48cd-86db-8a6c47a86222"
   },
   "outputs": [
    {
     "data": {
      "text/plain": [
       "85.71665285832643"
      ]
     },
     "execution_count": 28,
     "metadata": {},
     "output_type": "execute_result"
    }
   ],
   "source": [
    "accuracy_score(y_test,y_pred)*100"
   ]
  }
 ],
 "metadata": {
  "accelerator": "GPU",
  "colab": {
   "authorship_tag": "ABX9TyM6dCVWQNBCpwnAofvOaa6l",
   "collapsed_sections": [],
   "include_colab_link": true,
   "mount_file_id": "1ajS_9ZRCiY2cKFAJireVNBT-PIwdW8JN",
   "name": "Fake News Classifier.ipynb",
   "provenance": []
  },
  "kernelspec": {
   "display_name": "Python 3 (ipykernel)",
   "language": "python",
   "name": "python3"
  },
  "language_info": {
   "codemirror_mode": {
    "name": "ipython",
    "version": 3
   },
   "file_extension": ".py",
   "mimetype": "text/x-python",
   "name": "python",
   "nbconvert_exporter": "python",
   "pygments_lexer": "ipython3",
   "version": "3.9.13"
  }
 },
 "nbformat": 4,
 "nbformat_minor": 1
}
